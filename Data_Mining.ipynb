{
  "cells": [
    {
      "cell_type": "code",
      "execution_count": null,
      "metadata": {
        "id": "UDaSNIzfM6Ic"
      },
      "outputs": [],
      "source": [
        "import os\n",
        "import sys\n",
        "from tempfile import NamedTemporaryFile\n",
        "from urllib.request import urlopen\n",
        "from urllib.parse import unquote, urlparse\n",
        "from urllib.error import HTTPError\n",
        "from zipfile import ZipFile\n",
        "import tarfile\n",
        "import shutil\n"
      ]
    },
    {
      "cell_type": "markdown",
      "metadata": {
        "id": "LiHRrrbyM6Ih"
      },
      "source": [
        "# 1.Data Cleaning and Feature Engineering"
      ]
    },
    {
      "cell_type": "markdown",
      "metadata": {
        "id": "EU7XXCVhM6Ih"
      },
      "source": [
        "## 1.1 Importing all the modules used in the project"
      ]
    },
    {
      "cell_type": "code",
      "execution_count": null,
      "metadata": {
        "execution": {
          "iopub.execute_input": "2023-09-30T14:11:55.072579Z",
          "iopub.status.busy": "2023-09-30T14:11:55.072237Z",
          "iopub.status.idle": "2023-09-30T14:11:56.594626Z",
          "shell.execute_reply": "2023-09-30T14:11:56.593521Z",
          "shell.execute_reply.started": "2023-09-30T14:11:55.072551Z"
        },
        "id": "RjZ6FzEbM6Ih",
        "trusted": true
      },
      "outputs": [],
      "source": [
        "import pandas as pd\n",
        "import ast\n",
        "import matplotlib.pyplot as plt\n",
        "import seaborn as sns\n",
        "from sklearn.model_selection import train_test_split\n",
        "from sklearn.linear_model import LinearRegression\n",
        "from sklearn.metrics import mean_absolute_error\n",
        "import numpy as np"
      ]
    },
    {
      "cell_type": "markdown",
      "metadata": {
        "id": "NyZAgAL8Qqyf"
      },
      "source": [
        "* https://ucladatares.medium.com/the-success-of-movies-at-the-oscars-box-office-and-reviews-e33e5059ea40\n",
        "* https://www.stat.cmu.edu/capstoneresearch/fall2022/315files_f22/team24.html"
      ]
    },
    {
      "cell_type": "markdown",
      "metadata": {
        "id": "gHxVxauZM6Ii"
      },
      "source": [
        "## 1.2. Import Dataset"
      ]
    },
    {
      "cell_type": "code",
      "execution_count": null,
      "metadata": {
        "id": "BfSd9HGczfjn"
      },
      "outputs": [],
      "source": [
        "df = pd.read_csv(\"data/movies.csv\")"
      ]
    },
    {
      "cell_type": "code",
      "execution_count": null,
      "metadata": {
        "colab": {
          "base_uri": "https://localhost:8080/",
          "height": 300
        },
        "id": "-hVoXsAjPO4E",
        "outputId": "93f19143-5aa9-483e-cf19-816945d08591"
      },
      "outputs": [],
      "source": [
        "df.describe()"
      ]
    },
    {
      "cell_type": "code",
      "execution_count": null,
      "metadata": {
        "id": "fxif2fOpRVHO"
      },
      "outputs": [],
      "source": [
        "movies_metadata_df = df.copy()"
      ]
    },
    {
      "cell_type": "code",
      "execution_count": null,
      "metadata": {
        "colab": {
          "base_uri": "https://localhost:8080/"
        },
        "id": "3CzTFMi9SdQE",
        "outputId": "d5027458-42b6-4cf7-9e29-c27985a67e9e"
      },
      "outputs": [],
      "source": [
        "movies_metadata_df.shape"
      ]
    },
    {
      "cell_type": "markdown",
      "metadata": {
        "id": "sB4sEJw1M6Ij"
      },
      "source": [
        "## 1.3. Classic data cleaning steps"
      ]
    },
    {
      "cell_type": "markdown",
      "metadata": {
        "id": "99bNrpO_YEPG"
      },
      "source": [
        "**Xóa missing values**"
      ]
    },
    {
      "cell_type": "code",
      "execution_count": null,
      "metadata": {
        "colab": {
          "base_uri": "https://localhost:8080/"
        },
        "id": "loHHObGbJdAj",
        "outputId": "9bb82560-caa6-46c4-8b0b-97036846ef3f"
      },
      "outputs": [],
      "source": [
        "missing_value_percent = movies_metadata_df.isnull().sum() / len(movies_metadata_df) * 100\n",
        "\n",
        "# Print the results\n",
        "print(missing_value_percent)"
      ]
    },
    {
      "cell_type": "code",
      "execution_count": null,
      "metadata": {
        "colab": {
          "base_uri": "https://localhost:8080/"
        },
        "id": "ppmQo8UmSERb",
        "outputId": "fb135aaa-8970-4c45-cee8-ad367fd74520"
      },
      "outputs": [],
      "source": [
        "movies_metadata_df.info()"
      ]
    },
    {
      "cell_type": "markdown",
      "metadata": {
        "id": "zFN0zATm94LR"
      },
      "source": [
        "Xử lí lại việc tách date ra theo tháng"
      ]
    },
    {
      "cell_type": "code",
      "execution_count": null,
      "metadata": {
        "colab": {
          "base_uri": "https://localhost:8080/",
          "height": 504
        },
        "id": "JMI-_eTZJ9HP",
        "outputId": "c327683c-d3d6-4bd7-b8ce-10ba5f9ce76f"
      },
      "outputs": [],
      "source": [
        "# Extracting 'month' from 'released'\n",
        "movies_metadata_df['month'] = movies_metadata_df['released'].apply(lambda x: x.split()[0] if isinstance(x, str) else np.nan)\n",
        "valid_months = ['June', 'July', 'May', 'December', 'October', 'September',\n",
        "       'February', 'April', 'August', 'March', 'November', 'January']\n",
        "\n",
        "movies_metadata_df['month'] = movies_metadata_df['released'].apply(lambda x: x.split()[0] if isinstance(x, str) and x.split()[0] in valid_months else np.nan)\n",
        "\n",
        "# Handling missing values by filling them with appropriate placeholders or zeros\n",
        "movies_metadata_df[\"genre\"].fillna('Unknown', inplace=True)\n",
        "movies_metadata_df['country'].fillna('Unknown', inplace=True)\n",
        "movies_metadata_df['name'].fillna('Unknown', inplace=True)\n",
        "movies_metadata_df['rating'].fillna('Unknown', inplace=True)\n",
        "movies_metadata_df['writer'].fillna('Unknown', inplace=True)\n",
        "movies_metadata_df['star'].fillna('Unknown', inplace=True)\n",
        "movies_metadata_df['company'].fillna('Unknown', inplace=True)\n",
        "movies_metadata_df['month'].fillna('Unknown', inplace = True)\n",
        "movies_metadata_df[['score','votes','budget', 'gross','runtime', 'year']] = movies_metadata_df[['score','votes','budget', 'gross', 'runtime', 'year']].fillna(0)\n",
        "\n",
        "# Previewing the cleaned dataset\n",
        "movies_metadata_df.head()"
      ]
    },
    {
      "cell_type": "markdown",
      "metadata": {
        "id": "4aHY90uQYtgL"
      },
      "source": [
        "**Delete duplicate**"
      ]
    },
    {
      "cell_type": "code",
      "execution_count": null,
      "metadata": {
        "colab": {
          "base_uri": "https://localhost:8080/"
        },
        "id": "fFN_vKTrKlMM",
        "outputId": "dd8264da-0ea3-4ae0-8294-bec93bb33f74"
      },
      "outputs": [],
      "source": [
        "num_duplicates = movies_metadata_df.duplicated().sum()\n",
        "\n",
        "# Calculate the percentage of duplicates\n",
        "percent_duplicates = (num_duplicates / len(movies_metadata_df)) * 100\n",
        "\n",
        "# Print the results\n",
        "print(\"Percentage of Duplicate Rows:\", percent_duplicates, \"%\")"
      ]
    },
    {
      "cell_type": "code",
      "execution_count": null,
      "metadata": {
        "colab": {
          "base_uri": "https://localhost:8080/"
        },
        "id": "p0CpF8yeVPgA",
        "outputId": "62881b17-014e-40b6-f6ad-e15db0048dfb"
      },
      "outputs": [],
      "source": [
        "total_rows = len(movies_metadata_df)\n",
        "\n",
        "# Filter rows where revenue is equal to 0\n",
        "zero_revenue_rows = movies_metadata_df[movies_metadata_df['budget'] == 0]\n",
        "\n",
        "# Count the number of rows where revenue is equal to 0\n",
        "zero_revenue_count = len(zero_revenue_rows)\n",
        "\n",
        "# Calculate the percentage\n",
        "percentage_zero_revenue = (zero_revenue_count / total_rows) * 100\n",
        "\n",
        "print(\"Percentage of budget equal to 0:\", percentage_zero_revenue)"
      ]
    },
    {
      "cell_type": "markdown",
      "metadata": {
        "id": "nwmQKbbsY1iE"
      },
      "source": [
        "## 1.4 change datatype for budget and revenue"
      ]
    },
    {
      "cell_type": "code",
      "execution_count": null,
      "metadata": {
        "id": "MCColwziFmIR"
      },
      "outputs": [],
      "source": [
        "# Delete extra characters\n",
        "movies_metadata_df.columns = movies_metadata_df.columns.str.replace('[', '')\n",
        "movies_metadata_df.columns = movies_metadata_df.columns.str.replace(']', '')\n",
        "movies_metadata_df.columns = movies_metadata_df.columns.str.replace('<', '')"
      ]
    },
    {
      "cell_type": "code",
      "execution_count": null,
      "metadata": {
        "execution": {
          "iopub.execute_input": "2023-09-30T14:12:24.201324Z",
          "iopub.status.busy": "2023-09-30T14:12:24.200866Z",
          "iopub.status.idle": "2023-09-30T14:12:24.224206Z",
          "shell.execute_reply": "2023-09-30T14:12:24.223046Z",
          "shell.execute_reply.started": "2023-09-30T14:12:24.201298Z"
        },
        "id": "M45Yt2pWM6Ik",
        "trusted": true
      },
      "outputs": [],
      "source": [
        "# Setting 'name' as the index\n",
        "movies_metadata_df.set_index('name', inplace=True)\n",
        "# Không lấy cột name"
      ]
    },
    {
      "cell_type": "markdown",
      "metadata": {
        "id": "zF1hI2Lf94za"
      },
      "source": [
        "## 1.5 Feature engineering"
      ]
    },
    {
      "cell_type": "markdown",
      "metadata": {
        "id": "yXsrFDSM9-1l"
      },
      "source": [
        "**successful**: revenue >2*budget and (0.6ximdb score+ audience socrex0.4) > mean của (imdb score+ vote_count) cả toàn bộ data"
      ]
    },
    {
      "cell_type": "code",
      "execution_count": null,
      "metadata": {
        "id": "nzHVaNkESvBK"
      },
      "outputs": [],
      "source": [
        "movies_metadata_df['budget'] = pd.to_numeric(movies_metadata_df['budget'], errors='coerce')\n",
        "def is_film_successful(row):\n",
        "    revenue_condition = row['gross'] >= 2 * row['budget']\n",
        "    score_condition = row['score'] > 0.5\n",
        "    return revenue_condition and score_condition\n",
        "\n",
        "movies_metadata_df['successful'] = movies_metadata_df.apply(is_film_successful, axis=1)"
      ]
    },
    {
      "cell_type": "code",
      "execution_count": null,
      "metadata": {
        "colab": {
          "base_uri": "https://localhost:8080/",
          "height": 472
        },
        "id": "tkI5GlxG_aWc",
        "outputId": "0eeb0afb-5960-446b-f459-66bf43e1d6db"
      },
      "outputs": [],
      "source": [
        "# Group by 'Director' and sum 'Successful'\n",
        "grouped_df = movies_metadata_df.groupby('director')['successful'].sum().reset_index()\n",
        "\n",
        "# Sort the DataFrame by 'Revenue' in descending order for better visualization\n",
        "grouped_df = grouped_df.sort_values('successful', ascending=False).head(10)\n",
        "\n",
        "# Create a horizontal bar plot\n",
        "plt.barh(grouped_df['director'], grouped_df['successful'], color='blue')\n",
        "plt.xlabel('successful')\n",
        "plt.title('Plot of Director and successful Movies')\n",
        "plt.show()"
      ]
    },
    {
      "cell_type": "code",
      "execution_count": null,
      "metadata": {
        "id": "WpppxK5WHfv8"
      },
      "outputs": [],
      "source": [
        "def is_condition_1(row):\n",
        "    revenue_condition = row['gross'] >= 2 * row['budget']\n",
        "    return revenue_condition\n",
        "\n",
        "movies_metadata_df['condition_1'] = movies_metadata_df.apply(is_condition_1, axis=1)"
      ]
    },
    {
      "cell_type": "code",
      "execution_count": null,
      "metadata": {
        "id": "71KwukccSxWb"
      },
      "outputs": [],
      "source": [
        "movies_metadata_df['successful'] = movies_metadata_df['successful'].astype(int)"
      ]
    },
    {
      "cell_type": "code",
      "execution_count": null,
      "metadata": {
        "colab": {
          "base_uri": "https://localhost:8080/",
          "height": 564
        },
        "id": "JPXZgTSLIrHa",
        "outputId": "41032fa9-36a5-4e94-bd71-9f68d3ed586f"
      },
      "outputs": [],
      "source": [
        "class_counts = movies_metadata_df['successful'].value_counts()\n",
        "\n",
        "plt.figure(figsize=(10,6))\n",
        "plt.bar(class_counts.index, class_counts.values, color=['b', 'g'], alpha=0.7)\n",
        "plt.xlabel('Class')\n",
        "plt.ylabel('Count')\n",
        "plt.title('Distribution of Each Class in DataFrame')\n",
        "plt.xticks(ticks=[0,1], labels=['False', 'True'])\n",
        "plt.show()\n"
      ]
    },
    {
      "cell_type": "markdown",
      "metadata": {
        "id": "Ci6ND4C1M6Ik"
      },
      "source": [
        "# 2. EDA (Exploratory Data Analysis)\n",
        "\n"
      ]
    },
    {
      "cell_type": "markdown",
      "metadata": {
        "id": "z2W5oceMM6Ik"
      },
      "source": [
        "## 2.1. Distribution of Numerical Features\n",
        "   - Distribution of `budget`, `gross`, `runtime`, and `votes`."
      ]
    },
    {
      "cell_type": "code",
      "execution_count": null,
      "metadata": {
        "colab": {
          "base_uri": "https://localhost:8080/",
          "height": 970
        },
        "execution": {
          "iopub.execute_input": "2023-09-30T14:12:24.232297Z",
          "iopub.status.busy": "2023-09-30T14:12:24.23197Z",
          "iopub.status.idle": "2023-09-30T14:12:26.29699Z",
          "shell.execute_reply": "2023-09-30T14:12:26.296025Z",
          "shell.execute_reply.started": "2023-09-30T14:12:24.23227Z"
        },
        "id": "K8Y8YKqtM6Ik",
        "outputId": "dcfaf185-aae0-4f42-8d49-6c83f6c94c0d",
        "trusted": true
      },
      "outputs": [],
      "source": [
        "# Setting the style of seaborn\n",
        "sns.set(style=\"whitegrid\")\n",
        "\n",
        "# 1. Distribution of Numerical Features\n",
        "fig, axes = plt.subplots(nrows=2, ncols=2, figsize=(14, 12))\n",
        "sns.histplot(data=movies_metadata_df, x='budget', bins=30, ax=axes[0, 0], kde=True, color='blue')\n",
        "axes[0, 0].set_title('Distribution of Budget')\n",
        "sns.histplot(data=movies_metadata_df, x='gross', bins=30, ax=axes[0, 1], kde=True, color='green')\n",
        "axes[0, 1].set_title('Distribution of gross')\n",
        "sns.histplot(data=movies_metadata_df, x='runtime', bins=30, ax=axes[1, 0], kde=True, color='red')\n",
        "axes[1, 0].set_title('Distribution of Runtime')\n",
        "sns.histplot(data=movies_metadata_df, x='votes', bins=30, ax=axes[1, 1], kde=True, color='purple')\n",
        "axes[1, 1].set_title('Distribution of votes')\n",
        "plt.tight_layout()\n",
        "plt.show()\n"
      ]
    },
    {
      "cell_type": "markdown",
      "metadata": {
        "id": "AwC3Lyg3M6Ik"
      },
      "source": [
        "The histograms above provide insights into the distribution of `budget`, `gross`, `runtime`, and `votes`"
      ]
    },
    {
      "cell_type": "code",
      "execution_count": null,
      "metadata": {
        "colab": {
          "base_uri": "https://localhost:8080/",
          "height": 601
        },
        "id": "_P41IpFjVGgn",
        "outputId": "d6421fb5-13c8-4087-8886-18964b561322"
      },
      "outputs": [],
      "source": [
        "import pandas as pd\n",
        "import matplotlib.pyplot as plt\n",
        "\n",
        "columns_to_plot = ['gross', 'budget', 'runtime', 'votes']\n",
        "\n",
        "fig, axes = plt.subplots(nrows=2, ncols=2, figsize=(10, 6))\n",
        "\n",
        "# Plot each column in a separate boxplot\n",
        "for i, col in enumerate(columns_to_plot):\n",
        "    row = i // 2  # Calculate row index\n",
        "    col_index = i % 2  # Calculate column index\n",
        "    axes[row, col_index].boxplot(movies_metadata_df[col])\n",
        "    axes[row, col_index].set_title(col)\n",
        "\n",
        "plt.tight_layout()\n",
        "plt.show()\n"
      ]
    },
    {
      "cell_type": "markdown",
      "metadata": {
        "id": "VoCA_jJuM6Ik"
      },
      "source": [
        "## 2.2. Categorical Feature Analysis"
      ]
    },
    {
      "cell_type": "code",
      "execution_count": null,
      "metadata": {
        "colab": {
          "base_uri": "https://localhost:8080/",
          "height": 574
        },
        "execution": {
          "iopub.execute_input": "2023-09-30T14:12:26.298553Z",
          "iopub.status.busy": "2023-09-30T14:12:26.29817Z",
          "iopub.status.idle": "2023-09-30T14:12:27.059535Z",
          "shell.execute_reply": "2023-09-30T14:12:27.058507Z",
          "shell.execute_reply.started": "2023-09-30T14:12:26.298521Z"
        },
        "id": "_Oh3T73mM6Ik",
        "outputId": "1409eb82-db84-4e00-eb3b-9e9ced93e955",
        "trusted": true
      },
      "outputs": [],
      "source": [
        "# Number of Movies per Primary Genre\n",
        "plt.figure(figsize=(16, 6))\n",
        "sns.countplot(data=movies_metadata_df, y='genre', order=movies_metadata_df['genre'].value_counts().index, palette=\"viridis\")\n",
        "plt.title('Number of Movies per Genre')\n",
        "plt.xlabel('Number of Movies')\n",
        "plt.ylabel('Genre')\n",
        "plt.show()"
      ]
    },
    {
      "cell_type": "code",
      "execution_count": null,
      "metadata": {
        "colab": {
          "base_uri": "https://localhost:8080/",
          "height": 659
        },
        "id": "XG3Q_BfqYa9Q",
        "outputId": "0f1cc79e-05ea-4ab8-b615-95743c191507"
      },
      "outputs": [],
      "source": [
        "import pandas as pd\n",
        "import matplotlib.pyplot as plt\n",
        "\n",
        "top_20_counts = movies_metadata_df['company'].value_counts().head(20)\n",
        "\n",
        "plt.figure(figsize=(16, 6))\n",
        "plt.bar(top_20_counts.index, top_20_counts.values)\n",
        "plt.title('Number of Movies per Country (Top 20)')\n",
        "plt.xlabel('Country')\n",
        "plt.ylabel('Number of Movies')\n",
        "plt.xticks(rotation=90) \n",
        "plt.show()\n"
      ]
    },
    {
      "cell_type": "markdown",
      "metadata": {
        "id": "ANAmqITTM6Il"
      },
      "source": [
        "## 2.3. Time-based Analysis"
      ]
    },
    {
      "cell_type": "code",
      "execution_count": null,
      "metadata": {
        "colab": {
          "base_uri": "https://localhost:8080/",
          "height": 680
        },
        "execution": {
          "iopub.execute_input": "2023-09-30T14:12:27.064533Z",
          "iopub.status.busy": "2023-09-30T14:12:27.063545Z",
          "iopub.status.idle": "2023-09-30T14:12:28.893477Z",
          "shell.execute_reply": "2023-09-30T14:12:28.892386Z",
          "shell.execute_reply.started": "2023-09-30T14:12:27.064483Z"
        },
        "id": "UyzDJb98M6Il",
        "outputId": "dbe8dacb-1f4e-4ca5-a2a2-a9456b66d5e6",
        "trusted": true
      },
      "outputs": [],
      "source": [
        "# Monthly Distribution of Movie Releases\n",
        "plt.figure(figsize=(12, 6))\n",
        "sns.countplot(data=movies_metadata_df, x='month', palette=\"viridis\")\n",
        "plt.title('Monthly Distribution of Movie Releases')\n",
        "plt.xlabel('Release Month')\n",
        "plt.ylabel('Number of Movies')\n",
        "plt.xticks(ticks=range(13), labels=['Jan', 'Feb', 'Mar', 'Apr', 'May', 'Jun', 'Jul', 'Aug', 'Sep', 'Oct', 'Nov', 'Dec','Unkown'])\n",
        "plt.show()\n"
      ]
    },
    {
      "cell_type": "markdown",
      "metadata": {
        "id": "srJA4lqlM6Il"
      },
      "source": [
        "## 2.4. Correlation Analysis\n",
        "   - Correlation between numerical features."
      ]
    },
    {
      "cell_type": "code",
      "execution_count": null,
      "metadata": {
        "execution": {
          "iopub.execute_input": "2023-09-30T14:12:28.89538Z",
          "iopub.status.busy": "2023-09-30T14:12:28.894841Z",
          "iopub.status.idle": "2023-09-30T14:12:29.429258Z",
          "shell.execute_reply": "2023-09-30T14:12:29.428143Z",
          "shell.execute_reply.started": "2023-09-30T14:12:28.895352Z"
        },
        "id": "btr49FUcM6Il",
        "trusted": true
      },
      "outputs": [],
      "source": [
        "def get_pearson_corr_matrix(df: pd.DataFrame) -> pd.DataFrame:\n",
        "    ### BEGIN SOLUTION\n",
        "    correlation_matrix = df.corr(method='pearson')\n",
        "    return correlation_matrix\n",
        "    ### END SOLUTION\n",
        "    pass"
      ]
    },
    {
      "cell_type": "code",
      "execution_count": null,
      "metadata": {
        "id": "nonQ-lDQlWss"
      },
      "outputs": [],
      "source": [
        "df = movies_metadata_df[['year', 'score', 'votes', 'budget', 'gross', 'runtime']]"
      ]
    },
    {
      "cell_type": "code",
      "execution_count": null,
      "metadata": {
        "id": "ypS92iCOlSUU"
      },
      "outputs": [],
      "source": [
        "# Tạo correlation matrix từ hàm đã viết\n",
        "corr_matrix = get_pearson_corr_matrix(df)"
      ]
    },
    {
      "cell_type": "code",
      "execution_count": null,
      "metadata": {
        "colab": {
          "base_uri": "https://localhost:8080/",
          "height": 1000
        },
        "id": "j39acJ1ho3xc",
        "outputId": "149cb76a-074b-4ed2-facf-39d4e4c79db4"
      },
      "outputs": [],
      "source": [
        "import seaborn as sns\n",
        "import matplotlib.pyplot as plt\n",
        "\n",
        "plt.figure(figsize=(20, 17))\n",
        "sns.heatmap(corr_matrix.round(2), annot=True, cmap='coolwarm')\n",
        "plt.show()"
      ]
    },
    {
      "cell_type": "markdown",
      "metadata": {
        "id": "sueXtRayM6Il"
      },
      "source": [
        "## 2.5. Analysis the impact of features to successful movie (6 questions)\n"
      ]
    },
    {
      "cell_type": "markdown",
      "metadata": {
        "id": "TYa8rPNGeLLX"
      },
      "source": [
        "### 2.5.1 budget and revenue"
      ]
    },
    {
      "cell_type": "markdown",
      "metadata": {
        "id": "-JeuhywJbE-z"
      },
      "source": [
        "**Question: Does a higher budget generally lead to higher revenue?**"
      ]
    },
    {
      "cell_type": "code",
      "execution_count": null,
      "metadata": {
        "colab": {
          "base_uri": "https://localhost:8080/",
          "height": 481
        },
        "id": "mSNijZ5Rqc0Q",
        "outputId": "999855fd-e432-461b-ea35-bc4b9da415dd"
      },
      "outputs": [],
      "source": [
        "import seaborn as sns\n",
        "import matplotlib.pyplot as plt\n",
        "\n",
        "sns.set_theme(style=\"darkgrid\", rc={\"axes.facecolor\": \".8\"})  # Grey background\n",
        "\n",
        "# Create scatter plot with regression line\n",
        "sns.regplot(x='budget', y='gross', data=df,\n",
        "            scatter_kws={'s': 10, 'color': 'orange'},\n",
        "            line_kws={'color': 'green'})\n",
        "\n",
        "# Add labels and title\n",
        "plt.xlabel('Budget (Millions)', fontsize=12)\n",
        "plt.ylabel('Gross (Millions)', fontsize=12)\n",
        "plt.title('Plot of Budget and Revenue of Movies', fontsize=14)\n",
        "\n",
        "# Format y-axis to display numbers in millions (e.g., 200 million)\n",
        "# You'll need to modify this based on your data's scale\n",
        "plt.ticklabel_format(style='plain', axis='y')\n",
        "\n",
        "# Display the plot\n",
        "plt.show()\n"
      ]
    },
    {
      "cell_type": "code",
      "execution_count": null,
      "metadata": {
        "colab": {
          "base_uri": "https://localhost:8080/",
          "height": 481
        },
        "id": "CQxDaGgZrJx8",
        "outputId": "357d97ae-1899-4b38-8f67-59f977c7ee69"
      },
      "outputs": [],
      "source": [
        "from sklearn.linear_model import LinearRegression\n",
        "\n",
        "# Create a linear regression model\n",
        "model = LinearRegression()\n",
        "\n",
        "# Fit the model to the data\n",
        "model.fit(movies_metadata_df[['budget']], movies_metadata_df['gross'])\n",
        "\n",
        "# Get coefficients\n",
        "m = model.coef_[0]  # Slope (coefficient of budget)\n",
        "b = model.intercept_  # Y-intercept\n",
        "\n",
        "# Predict gross revenue based on different budgets\n",
        "budget_range = range(0, 110, 10)  # Range of budgets to predict for\n",
        "predicted_gross = [m * budget + b for budget in budget_range]\n",
        "\n",
        "# Create scatter plot with regression line\n",
        "sns.set_theme(style=\"darkgrid\", rc={\"axes.facecolor\": \".8\"})  # Grey background\n",
        "\n",
        "sns.regplot(x='budget', y='gross', data=df,\n",
        "            scatter_kws={'s': 10, 'color': 'orange'},\n",
        "            line_kws={'color': 'green'})\n",
        "\n",
        "# Plot the regression line\n",
        "plt.plot(budget_range, predicted_gross, color='green', label='Regression Line')\n",
        "\n",
        "# Add labels and title\n",
        "plt.xlabel('Budget (Millions)', fontsize=12)\n",
        "plt.ylabel('Gross (Millions)', fontsize=12)\n",
        "plt.title('Plot of Budget and Revenue of Movies with Regression Line', fontsize=14)\n",
        "\n",
        "# Format y-axis to display numbers in millions (e.g., 200 million)\n",
        "# You'll need to modify this based on your data's scale\n",
        "plt.ticklabel_format(style='plain', axis='y')\n",
        "\n",
        "# Add legend\n",
        "plt.legend()\n",
        "\n",
        "# Display the plot\n",
        "plt.show()"
      ]
    },
    {
      "cell_type": "code",
      "execution_count": null,
      "metadata": {
        "colab": {
          "base_uri": "https://localhost:8080/",
          "height": 480
        },
        "id": "uHXxD7BGboK6",
        "outputId": "05d29378-8dba-4bf4-8f9a-b8739bca18cf"
      },
      "outputs": [],
      "source": [
        "plt.scatter(movies_metadata_df['budget'], movies_metadata_df['gross'])\n",
        "plt.xlabel('budget ')\n",
        "plt.ylabel('gross')\n",
        "plt.title('Scatter Plot: budget vs gross')\n",
        "plt.show()"
      ]
    },
    {
      "cell_type": "code",
      "execution_count": null,
      "metadata": {
        "colab": {
          "base_uri": "https://localhost:8080/",
          "height": 480
        },
        "id": "7peAZ3T5igf_",
        "outputId": "0f6c96b7-99c3-473f-8b68-9bfdb19daf5d"
      },
      "outputs": [],
      "source": [
        "plt.scatter(movies_metadata_df['budget'], movies_metadata_df['successful'])\n",
        "plt.xlabel('budget ')\n",
        "plt.ylabel('successful')\n",
        "plt.title('Scatter Plot: budget vs successful')\n",
        "plt.show()"
      ]
    },
    {
      "cell_type": "markdown",
      "metadata": {
        "id": "zFjnhlVvimk8"
      },
      "source": [
        "=> Number of budget do not affect successful label"
      ]
    },
    {
      "cell_type": "markdown",
      "metadata": {
        "id": "L-nqyAE5jjq7"
      },
      "source": [
        "**=> Không bàn cãi, budget vs revenue tuyến tính với nhau**"
      ]
    },
    {
      "cell_type": "code",
      "execution_count": null,
      "metadata": {
        "colab": {
          "base_uri": "https://localhost:8080/",
          "height": 573
        },
        "id": "M7l1AhoCjsTn",
        "outputId": "a9a18c24-8c84-42ce-85ad-0f394d9c6919"
      },
      "outputs": [],
      "source": [
        "plt.figure(figsize=(10,6))\n",
        "sns.violinplot(x='successful', y='budget', data=movies_metadata_df)\n",
        "plt.title('Violin Plot: budget for Each Category in successful')\n",
        "plt.show()\n"
      ]
    },
    {
      "cell_type": "markdown",
      "metadata": {
        "id": "eeZ9AWVTrJFQ"
      },
      "source": [
        "**=> Get no insight**"
      ]
    },
    {
      "cell_type": "markdown",
      "metadata": {
        "id": "CT7NLRtAYN4L"
      },
      "source": [
        "### 2.5.2 gross vs director"
      ]
    },
    {
      "cell_type": "code",
      "execution_count": null,
      "metadata": {
        "colab": {
          "base_uri": "https://localhost:8080/",
          "height": 480
        },
        "id": "VK6ZMv8Bemgh",
        "outputId": "8522fbbb-fdcb-405c-8f82-7d3c0999e5da"
      },
      "outputs": [],
      "source": [
        "# Group by 'Director' and sum 'Revenue'\n",
        "grouped_df = movies_metadata_df.groupby('director')['gross'].sum().reset_index()\n",
        "\n",
        "# Sort the DataFrame by 'Revenue' in descending order for better visualization\n",
        "grouped_df = grouped_df.sort_values('gross', ascending=False).head(10)\n",
        "\n",
        "# Create a horizontal bar plot\n",
        "plt.barh(grouped_df['director'], grouped_df['gross'], color='blue')\n",
        "plt.xlabel('Gross')\n",
        "plt.title('Plot of Director and Revenue of Movies')\n",
        "plt.show()"
      ]
    },
    {
      "cell_type": "code",
      "execution_count": null,
      "metadata": {
        "colab": {
          "base_uri": "https://localhost:8080/",
          "height": 480
        },
        "id": "iTiva_KPji0J",
        "outputId": "73a217d5-1571-484e-b4e5-f4821d3db20c"
      },
      "outputs": [],
      "source": [
        "# Group by 'director' and count 'successful' movies\n",
        "grouped_df = movies_metadata_df[movies_metadata_df['successful'] == 1].groupby('director').size().reset_index(name='count')\n",
        "\n",
        "# Sort the DataFrame by 'count' in descending order and get the top 15\n",
        "grouped_df = grouped_df.sort_values('count', ascending=False).head(10)\n",
        "\n",
        "# Create a horizontal bar plot\n",
        "plt.barh(grouped_df['director'], grouped_df['count'], color='blue')\n",
        "plt.xlabel('Number of Successful Movies')\n",
        "plt.title('Plot of Director and Number of Successful Movies')\n",
        "plt.show()\n"
      ]
    },
    {
      "cell_type": "code",
      "execution_count": null,
      "metadata": {
        "colab": {
          "base_uri": "https://localhost:8080/",
          "height": 480
        },
        "id": "r0-a76inj7on",
        "outputId": "e56a6a5e-ef7d-4449-92a5-1d4b7a32e792"
      },
      "outputs": [],
      "source": [
        "# Group by 'director' and count 'not successful' movies\n",
        "grouped_df = movies_metadata_df[movies_metadata_df['successful'] == 0].groupby('director').size().reset_index(name='count')\n",
        "\n",
        "# Sort the DataFrame by 'count' in descending order and get the top 15\n",
        "grouped_df = grouped_df.sort_values('count', ascending=False).head(15)\n",
        "\n",
        "# Create a horizontal bar plot\n",
        "plt.barh(grouped_df['director'], grouped_df['count'], color='blue')\n",
        "plt.xlabel('Number of Not Successful Movies')\n",
        "plt.title('Plot of Director and Number of Not Successful Movies')\n",
        "plt.show()\n"
      ]
    },
    {
      "cell_type": "markdown",
      "metadata": {
        "id": "R5pLNPMLZYg4"
      },
      "source": [
        "### 2.5.3 gross vs company"
      ]
    },
    {
      "cell_type": "code",
      "execution_count": null,
      "metadata": {
        "colab": {
          "base_uri": "https://localhost:8080/",
          "height": 480
        },
        "id": "PABH3BgnY9Bv",
        "outputId": "d3a65101-770d-4e10-d356-c9f3e1dbc256"
      },
      "outputs": [],
      "source": [
        "# Group by 'Company' and sum 'Revenue'\n",
        "grouped_df = movies_metadata_df.groupby('company')['gross'].sum().reset_index()\n",
        "\n",
        "# Sort the DataFrame by 'Revenue' in descending order for better visualization\n",
        "grouped_df = grouped_df.sort_values('gross', ascending=False).head(16)\n",
        "\n",
        "# Create a horizontal bar plot\n",
        "plt.barh(grouped_df['company'], grouped_df['gross'], color='blue')\n",
        "plt.xlabel('Gross')\n",
        "plt.title('Plot of company and Revenue of Movies')\n",
        "plt.show()"
      ]
    },
    {
      "cell_type": "code",
      "execution_count": null,
      "metadata": {
        "colab": {
          "base_uri": "https://localhost:8080/",
          "height": 480
        },
        "id": "X6pib45fkYD9",
        "outputId": "84feb167-65c3-460e-dbcd-167b640ea899"
      },
      "outputs": [],
      "source": [
        "# Group by 'Company' and count 'successful' movies\n",
        "grouped_df = movies_metadata_df[movies_metadata_df['successful'] == 1].groupby('company').size().reset_index(name='count')\n",
        "\n",
        "# Sort the DataFrame by 'count' in descending order and get the top 15\n",
        "grouped_df = grouped_df.sort_values('count', ascending=False).head(15)\n",
        "\n",
        "# Create a horizontal bar plot\n",
        "plt.barh(grouped_df['company'], grouped_df['count'], color='blue')\n",
        "plt.xlabel('Number of Successful Movies')\n",
        "plt.title('Plot of company and Number of Successful Movies')\n",
        "plt.show()\n"
      ]
    },
    {
      "cell_type": "code",
      "execution_count": null,
      "metadata": {
        "colab": {
          "base_uri": "https://localhost:8080/",
          "height": 480
        },
        "id": "XWdkJUYSwHAb",
        "outputId": "71bfc57b-1def-4ead-ed41-224805987c72"
      },
      "outputs": [],
      "source": [
        "# Group by 'Company' and sum 'Budget'\n",
        "grouped_df = movies_metadata_df.groupby('company')['budget'].sum().reset_index()\n",
        "\n",
        "# Sort the DataFrame by 'Budget' in descending order for better visualization\n",
        "grouped_df = grouped_df.sort_values('budget', ascending=False).head(16)\n",
        "\n",
        "# Create a horizontal bar plot\n",
        "plt.barh(grouped_df['company'], grouped_df['budget'], color='blue')\n",
        "plt.xlabel('Budget')\n",
        "plt.title('Plot of company and Budget of Movies')\n",
        "plt.show()"
      ]
    },
    {
      "cell_type": "markdown",
      "metadata": {
        "id": "TwfNjbx3aKUn"
      },
      "source": [
        "### 2.5.4 Gross vs IMDB Score vs user votes"
      ]
    },
    {
      "cell_type": "markdown",
      "metadata": {
        "id": "Bci7JXF_Wqg8"
      },
      "source": [
        "**Question: How imdb score affect gross?**"
      ]
    },
    {
      "cell_type": "code",
      "execution_count": null,
      "metadata": {
        "colab": {
          "base_uri": "https://localhost:8080/",
          "height": 628
        },
        "id": "coxQIl7nZiU_",
        "outputId": "05507281-6d06-4a14-d94c-2f4053d78947"
      },
      "outputs": [],
      "source": [
        "import pandas as pd\n",
        "import numpy as np\n",
        "import matplotlib.pyplot as plt\n",
        "import seaborn as sns\n",
        "from sklearn.linear_model import LinearRegression\n",
        "\n",
        "\n",
        "# Filter the DataFrame to only include movies from the 1980s\n",
        "df = movies_metadata_df[(movies_metadata_df['year'] >= 1980) & (movies_metadata_df['year'] < 1990)]\n",
        "\n",
        "# Create a scatter plot with a color gradient\n",
        "plt.figure(figsize=(10, 6))\n",
        "scatter = plt.scatter(df['score'], df['gross'], c=df['votes'], cmap='coolwarm')\n",
        "plt.colorbar(scatter, label='Votes')\n",
        "plt.xlabel('IMDB Score')\n",
        "plt.ylabel('Gross (in millions)')\n",
        "\n",
        "# Fit a line of best fit\n",
        "model = LinearRegression()\n",
        "model.fit(df[['score']], df['gross'])\n",
        "x_range = np.linspace(df['score'].min(), df['score'].max(), 100)\n",
        "plt.plot(x_range, model.predict(x_range.reshape(-1, 1)), color='blue')\n",
        "\n",
        "plt.title('IMDB Score vs. Gross (1980s)')\n",
        "plt.show()\n"
      ]
    },
    {
      "cell_type": "markdown",
      "metadata": {
        "id": "XpwiHC_cYMjA"
      },
      "source": [
        "**=> Having a good score doesn’t equate to having a high grossing movie. Rather it shows the potential of a movie to reach a high gross.**"
      ]
    },
    {
      "cell_type": "markdown",
      "metadata": {
        "id": "IdimqSxnZdPd"
      },
      "source": [
        "**Question: Relationship between IMDB Score and User Vote?**"
      ]
    },
    {
      "cell_type": "code",
      "execution_count": null,
      "metadata": {
        "colab": {
          "base_uri": "https://localhost:8080/",
          "height": 608
        },
        "id": "cCTilOOYeMH2",
        "outputId": "ff22d68d-3959-4251-8077-72dc50cad72a"
      },
      "outputs": [],
      "source": [
        "import pandas as pd\n",
        "import matplotlib.pyplot as plt\n",
        "import seaborn as sns\n",
        "\n",
        "# Create a scatter plot with different colors for each content rating\n",
        "plt.figure(figsize=(10, 6))\n",
        "sns.scatterplot(data=movies_metadata_df, x='score', y='votes' , palette='coolwarm')\n",
        "plt.xlabel('IMDB Score')\n",
        "plt.ylabel('Votes')\n",
        "plt.title('Votes vs. IMDB Score')\n",
        "plt.show()\n"
      ]
    },
    {
      "cell_type": "markdown",
      "metadata": {
        "id": "uLNcIbuMZ_lr"
      },
      "source": [
        "**=> IMDB Score vs User Score is relatively linear**"
      ]
    },
    {
      "cell_type": "code",
      "execution_count": null,
      "metadata": {
        "colab": {
          "base_uri": "https://localhost:8080/",
          "height": 480
        },
        "id": "zwenSvaCbmrI",
        "outputId": "1cbe4342-3066-4ae9-ee73-698185a72122"
      },
      "outputs": [],
      "source": [
        "plt.scatter(df['votes'], df['gross'])\n",
        "\n",
        "plt.title('Scatter plot: Votes vs Gross')\n",
        "plt.xlabel('Votes')\n",
        "plt.ylabel('Gross')\n",
        "plt.show()"
      ]
    },
    {
      "cell_type": "code",
      "execution_count": null,
      "metadata": {
        "colab": {
          "base_uri": "https://localhost:8080/",
          "height": 628
        },
        "id": "Ui9DHooQWHN7",
        "outputId": "d944fdc0-9576-4816-d246-4ff82a75c6ee"
      },
      "outputs": [],
      "source": [
        "import pandas as pd\n",
        "import numpy as np\n",
        "import matplotlib.pyplot as plt\n",
        "import seaborn as sns\n",
        "from sklearn.linear_model import LinearRegression\n",
        "\n",
        "df = movies_metadata_df.copy()\n",
        "\n",
        "# Create a scatter plot with a color gradient\n",
        "plt.figure(figsize=(10, 6))\n",
        "scatter = plt.scatter(df['votes'], df['gross'])\n",
        "plt.colorbar(scatter, label='Votes')\n",
        "plt.xlabel('Votes')\n",
        "plt.ylabel('Gross (in millions)')\n",
        "\n",
        "# Fit a line of best fit\n",
        "model = LinearRegression()\n",
        "model.fit(df[['votes']], df['gross'])\n",
        "x_range = np.linspace(df['votes'].min(), df['votes'].max(), 100)\n",
        "plt.plot(x_range, model.predict(x_range.reshape(-1, 1)), color='blue')\n",
        "\n",
        "plt.title('votes vs. Gross ')\n",
        "plt.show()"
      ]
    },
    {
      "cell_type": "markdown",
      "metadata": {
        "id": "p5NaXcxqbz5w"
      },
      "source": [
        "**=> Gross vs Votes relatively linear**"
      ]
    },
    {
      "cell_type": "code",
      "execution_count": null,
      "metadata": {
        "colab": {
          "base_uri": "https://localhost:8080/",
          "height": 480
        },
        "id": "kZ1k-HG3QwWS",
        "outputId": "e1a5c467-aaa1-410f-d02b-0ce31175b207"
      },
      "outputs": [],
      "source": [
        "grouped_df = movies_metadata_df.groupby('director')['score'].sum().reset_index()\n",
        "grouped_df = grouped_df.sort_values('score', ascending=False).head(10)\n",
        "\n",
        "# Create a horizontal bar plot\n",
        "plt.barh(grouped_df['director'], grouped_df['score'], color='blue')\n",
        "plt.xlabel('score')\n",
        "plt.title('Plot of Director and Revenue of Movies')\n",
        "plt.show()"
      ]
    },
    {
      "cell_type": "markdown",
      "metadata": {
        "id": "R1SF0VnXg8H5"
      },
      "source": [
        "### 2.5.5 Gross vs Critics"
      ]
    },
    {
      "cell_type": "code",
      "execution_count": null,
      "metadata": {
        "id": "9vwhoES6JO7b"
      },
      "outputs": [],
      "source": [
        "movies_metadata_df = movies_metadata_df[movies_metadata_df['rating'].str.upper() != 'X']"
      ]
    },
    {
      "cell_type": "markdown",
      "metadata": {
        "id": "9piiUF8G9rf7"
      },
      "source": [
        "**Question: How critics affect revenue?**"
      ]
    },
    {
      "cell_type": "code",
      "execution_count": null,
      "metadata": {
        "colab": {
          "base_uri": "https://localhost:8080/",
          "height": 480
        },
        "id": "MKYuqks7gVE6",
        "outputId": "99f6025c-5cb2-485e-d9c2-f847ca547487"
      },
      "outputs": [],
      "source": [
        "grouped_df = movies_metadata_df.groupby('rating')['gross'].sum().reset_index()\n",
        "grouped_df = grouped_df.sort_values('gross', ascending=False)\n",
        "\n",
        "# Create a horizontal bar plot\n",
        "plt.barh(grouped_df['rating'], grouped_df['gross'], color='blue')\n",
        "plt.xlabel('Gross')\n",
        "plt.title('Plot of Critics and Gross of Movies')\n",
        "plt.show()"
      ]
    },
    {
      "cell_type": "markdown",
      "metadata": {
        "id": "bznVJAIFquWn"
      },
      "source": [
        "**gộp lại thành 4 loại**"
      ]
    },
    {
      "cell_type": "markdown",
      "metadata": {
        "id": "Ceh9FLzDBlnn"
      },
      "source": [
        "=> Những bộ phim giới hạn dưới 13 tuổi có doanh thu cao nhất"
      ]
    },
    {
      "cell_type": "markdown",
      "metadata": {
        "id": "nvcgyK_4rhUP"
      },
      "source": [
        "=> compare vs revenue >2*budget => prove tuyến tính vs score hoặc vote => successful=> ms gộp vào\n"
      ]
    },
    {
      "cell_type": "code",
      "execution_count": null,
      "metadata": {
        "colab": {
          "base_uri": "https://localhost:8080/",
          "height": 480
        },
        "id": "CeI8KtzVIJIk",
        "outputId": "bbb9cf8c-95e5-417e-d514-50b216419a03"
      },
      "outputs": [],
      "source": [
        "# Group by 'director' and count 'successful' movies\n",
        "grouped_df = movies_metadata_df[movies_metadata_df['condition_1'] == 1].groupby('rating').size().reset_index(name='count')\n",
        "\n",
        "# Sort the DataFrame by 'count' in descending order and get the top 15\n",
        "grouped_df = grouped_df.sort_values('count', ascending=False).head(10)\n",
        "\n",
        "# Create a horizontal bar plot\n",
        "plt.barh(grouped_df['rating'], grouped_df['count'], color='blue')\n",
        "plt.xlabel('Number of condition_1')\n",
        "plt.title('Plot of rating and Number of condition_1')\n",
        "plt.show()\n"
      ]
    },
    {
      "cell_type": "code",
      "execution_count": null,
      "metadata": {
        "colab": {
          "base_uri": "https://localhost:8080/",
          "height": 480
        },
        "id": "vfLExDPdI7V5",
        "outputId": "52e756dd-79ce-4e0f-d83b-9aecd1f9f9c7"
      },
      "outputs": [],
      "source": [
        "grouped_df = movies_metadata_df[movies_metadata_df['condition_1'] == 0].groupby('rating').size().reset_index(name='count')\n",
        "grouped_df = grouped_df.sort_values('count', ascending=False).head(10)\n",
        "\n",
        "# Create a horizontal bar plot\n",
        "plt.barh(grouped_df['rating'], grouped_df['count'], color='blue')\n",
        "plt.xlabel('Number of condition_1')\n",
        "plt.title('Plot of rating and Number of condition_1')\n",
        "plt.show()\n"
      ]
    },
    {
      "cell_type": "markdown",
      "metadata": {
        "id": "asle5m5Ts7CU"
      },
      "source": [
        "=> plot chứng minh revenue > 2*budget và vote và score"
      ]
    },
    {
      "cell_type": "code",
      "execution_count": null,
      "metadata": {
        "colab": {
          "base_uri": "https://localhost:8080/",
          "height": 573
        },
        "id": "SwHJZ11GrJTS",
        "outputId": "adf87da7-fd9f-4ce6-c7ec-a3486c23c8f2"
      },
      "outputs": [],
      "source": [
        "# Count the number of movies for each rating\n",
        "rating_counts = movies_metadata_df.groupby('rating')['successful'].count()\n",
        "\n",
        "# Create the bar plot\n",
        "plt.figure(figsize=(10,6))\n",
        "plt.bar(rating_counts.index, rating_counts.values, color='b', alpha=0.7)\n",
        "plt.xlabel('Rating')\n",
        "plt.ylabel('Number of Movies')\n",
        "plt.title('Number of Movies of Each Rating Type')\n",
        "plt.show()"
      ]
    },
    {
      "cell_type": "code",
      "execution_count": null,
      "metadata": {
        "colab": {
          "base_uri": "https://localhost:8080/",
          "height": 573
        },
        "id": "ZPbN7oC8FDEu",
        "outputId": "7809a8bc-aa5e-4d55-9903-1fce6e92a3e7"
      },
      "outputs": [],
      "source": [
        "# Count the number of movies for each rating\n",
        "rating_counts = movies_metadata_df['rating'].value_counts()\n",
        "\n",
        "# Create the bar plot\n",
        "plt.figure(figsize=(10,6))\n",
        "plt.bar(rating_counts.index, rating_counts.values, color='b', alpha=0.7)\n",
        "plt.xlabel('Rating')\n",
        "plt.ylabel('Number of Movies')\n",
        "plt.title('Number of Movies of Each Rating Type')\n",
        "plt.show()"
      ]
    },
    {
      "cell_type": "markdown",
      "metadata": {
        "id": "XaH6rUEcJr4I"
      },
      "source": [
        "Nhận thấy, PG-13 có doanh thu cao nhất dù số lượng phim đứng sau R.\n",
        "Tương tự Not Rated có số lượng phim nhiều hơn nhưng doanh thu thấp hơn.\n",
        "\n",
        "**=> Như vậy, những critics rating nhất định sẽ có ảnh hưởng tới gross của bộ phim**"
      ]
    },
    {
      "cell_type": "markdown",
      "metadata": {
        "id": "2Dtg3tPehinV"
      },
      "source": [
        "### 2.5.6 Genre vs Gross"
      ]
    },
    {
      "cell_type": "code",
      "execution_count": null,
      "metadata": {
        "colab": {
          "base_uri": "https://localhost:8080/",
          "height": 480
        },
        "id": "YV_OfDAHhUhF",
        "outputId": "65a19a8f-5b82-4149-c959-cb5c9efae825"
      },
      "outputs": [],
      "source": [
        "# Group by 'Director' and sum 'Revenue'\n",
        "grouped_df = movies_metadata_df.groupby('genre')['gross'].sum().reset_index()\n",
        "\n",
        "# Sort the DataFrame by 'Revenue' in descending order for better visualization\n",
        "grouped_df = grouped_df.sort_values('gross', ascending=False)\n",
        "\n",
        "# Create a horizontal bar plot\n",
        "plt.barh(grouped_df['genre'], grouped_df['gross'], color='blue')\n",
        "plt.xlabel('Gross')\n",
        "plt.title('Plot of genre and Gross of Movies')\n",
        "plt.show()"
      ]
    },
    {
      "cell_type": "code",
      "execution_count": null,
      "metadata": {
        "colab": {
          "base_uri": "https://localhost:8080/",
          "height": 480
        },
        "id": "H15fLJf_tMWk",
        "outputId": "20bcfe48-f5f6-48ba-995c-b945ef30131c"
      },
      "outputs": [],
      "source": [
        "grouped_df = movies_metadata_df[movies_metadata_df['successful'] == 1].groupby('genre').size().reset_index(name='count')\n",
        "\n",
        "# Sort the DataFrame by 'count' in descending order and get the top 15\n",
        "grouped_df = grouped_df.sort_values('count', ascending=False).head(10)\n",
        "\n",
        "# Create a horizontal bar plot\n",
        "plt.barh(grouped_df['genre'], grouped_df['count'], color='blue')\n",
        "plt.xlabel('Number of Successful Movies')\n",
        "plt.title('Plot of Genres and Number of Successful Movies')\n",
        "plt.show()\n"
      ]
    },
    {
      "cell_type": "markdown",
      "metadata": {
        "id": "cu7AcQJciFYD"
      },
      "source": [
        "### 2.5.7 Genre vs year"
      ]
    },
    {
      "cell_type": "code",
      "execution_count": null,
      "metadata": {
        "colab": {
          "base_uri": "https://localhost:8080/",
          "height": 480
        },
        "id": "tiGlWwZViE1k",
        "outputId": "51fd0000-687e-4067-e614-cafdc8f18f03"
      },
      "outputs": [],
      "source": [
        "grouped_df = movies_metadata_df.groupby('year')['gross'].sum().reset_index()\n",
        "grouped_df = grouped_df.sort_values('gross', ascending=False)\n",
        "\n",
        "# Create a horizontal bar plot\n",
        "plt.barh(grouped_df['year'], grouped_df['gross'], color='blue')\n",
        "plt.xlabel('Gross')\n",
        "plt.title('Plot of year and Gross of Movies')\n",
        "plt.show()"
      ]
    },
    {
      "cell_type": "markdown",
      "metadata": {
        "id": "2FOX_0cDiR4Y"
      },
      "source": [
        "### 2.5.8 Month vs Gross"
      ]
    },
    {
      "cell_type": "code",
      "execution_count": null,
      "metadata": {
        "colab": {
          "base_uri": "https://localhost:8080/"
        },
        "id": "usRc21uksj1A",
        "outputId": "0a9c0eab-ae84-44e2-d827-8b53b51e43d0"
      },
      "outputs": [],
      "source": [
        "movies_metadata_df['month'].unique()"
      ]
    },
    {
      "cell_type": "code",
      "execution_count": null,
      "metadata": {
        "colab": {
          "base_uri": "https://localhost:8080/",
          "height": 480
        },
        "id": "xtham_E8sW5r",
        "outputId": "7b387eff-8097-422d-d338-a2c83798c817"
      },
      "outputs": [],
      "source": [
        "grouped_df = movies_metadata_df.groupby('month')['gross'].sum().reset_index()\n",
        "grouped_df = grouped_df.sort_values('gross', ascending=False).head(20)\n",
        "\n",
        "# Create a horizontal bar plot\n",
        "plt.barh(grouped_df['month'], grouped_df['gross'], color='blue')\n",
        "plt.xlabel('Gross')\n",
        "plt.title('Plot of month and Gross of Movies')\n",
        "plt.show()"
      ]
    },
    {
      "cell_type": "markdown",
      "metadata": {
        "id": "R1DOHOtJg_Kx"
      },
      "source": [
        "**Whether month release affect successful label?**"
      ]
    },
    {
      "cell_type": "code",
      "execution_count": null,
      "metadata": {
        "colab": {
          "base_uri": "https://localhost:8080/",
          "height": 480
        },
        "id": "JZvda3LMhfUO",
        "outputId": "00ebb5ba-5e8b-427e-f339-0057231c4c2c"
      },
      "outputs": [],
      "source": [
        "# Group by 'month' and count 'Not successful' movies\n",
        "grouped_df = movies_metadata_df[movies_metadata_df['successful'] == 0].groupby('month').size().reset_index(name='count')\n",
        "\n",
        "# Sort the DataFrame by 'count' in descending order for better visualization\n",
        "grouped_df = grouped_df.sort_values('count', ascending=False)\n",
        "\n",
        "# Create a horizontal bar plot\n",
        "plt.barh(grouped_df['month'], grouped_df['count'], color='blue')\n",
        "plt.xlabel('Number of Not Successful Movies')\n",
        "plt.title('Plot of Month and Number of Not Successful Movies')\n",
        "plt.show()"
      ]
    },
    {
      "cell_type": "code",
      "execution_count": null,
      "metadata": {
        "colab": {
          "base_uri": "https://localhost:8080/",
          "height": 480
        },
        "id": "_s8EO9P2h032",
        "outputId": "3c16cd5e-0530-4900-fb1e-39fa5f4d6a28"
      },
      "outputs": [],
      "source": [
        "# Group by 'month' and count 'successful' movies\n",
        "grouped_df = movies_metadata_df[movies_metadata_df['successful'] == 1].groupby('month').size().reset_index(name='count')\n",
        "\n",
        "# Sort the DataFrame by 'count' in descending order for better visualization\n",
        "grouped_df = grouped_df.sort_values('count', ascending=False)\n",
        "\n",
        "# Create a horizontal bar plot\n",
        "plt.barh(grouped_df['month'], grouped_df['count'], color='blue')\n",
        "plt.xlabel('Number of Successful Movies')\n",
        "plt.title('Plot of Month and Number of Successful Movies')\n",
        "plt.show()"
      ]
    },
    {
      "cell_type": "markdown",
      "metadata": {
        "id": "wIjrNRtziYfs"
      },
      "source": [
        "### 2.5.9 writer vs gross"
      ]
    },
    {
      "cell_type": "code",
      "execution_count": null,
      "metadata": {
        "colab": {
          "base_uri": "https://localhost:8080/",
          "height": 480
        },
        "id": "kIc7_c9eiWTD",
        "outputId": "7ff72366-01ec-47bf-e768-536049b53ce9"
      },
      "outputs": [],
      "source": [
        "grouped_df = movies_metadata_df.groupby('writer')['gross'].sum().reset_index()\n",
        "grouped_df = grouped_df.sort_values('gross', ascending=False).head(15)\n",
        "\n",
        "# Create a horizontal bar plot\n",
        "plt.barh(grouped_df['writer'], grouped_df['gross'], color='blue')\n",
        "plt.xlabel('Gross')\n",
        "plt.title('Plot of writer and Gross of Movies')\n",
        "plt.show()"
      ]
    },
    {
      "cell_type": "code",
      "execution_count": null,
      "metadata": {
        "colab": {
          "base_uri": "https://localhost:8080/",
          "height": 480
        },
        "id": "VwUfQ8I3wSsr",
        "outputId": "9bb22645-5c8c-443a-c775-52904a89360e"
      },
      "outputs": [],
      "source": [
        "grouped_df = movies_metadata_df[movies_metadata_df['successful'] == 1].groupby('writer').size().reset_index(name='count')\n",
        "grouped_df = grouped_df.sort_values('count', ascending=False).head(15)\n",
        "\n",
        "# Create a horizontal bar plot\n",
        "plt.barh(grouped_df['writer'], grouped_df['count'], color='blue')\n",
        "plt.xlabel('Number of Successful Movies')\n",
        "plt.title('Plot of writer and Number of Successful Movies')\n",
        "plt.show()\n"
      ]
    },
    {
      "cell_type": "markdown",
      "metadata": {
        "id": "-nyjtH5rjNJg"
      },
      "source": [
        "### 2.5.10 main actor/actress vs gross"
      ]
    },
    {
      "cell_type": "code",
      "execution_count": null,
      "metadata": {
        "colab": {
          "base_uri": "https://localhost:8080/",
          "height": 480
        },
        "id": "_X1w7NShjGog",
        "outputId": "4be69aa7-55e5-4dcb-9461-1eee7f7b738d"
      },
      "outputs": [],
      "source": [
        "grouped_df = movies_metadata_df.groupby('star')['gross'].sum().reset_index()\n",
        "\n",
        "# Sort the DataFrame by 'Revenue' in descending order for better visualization\n",
        "grouped_df = grouped_df.sort_values('gross', ascending=False).head(20)\n",
        "\n",
        "# Create a horizontal bar plot\n",
        "plt.barh(grouped_df['star'], grouped_df['gross'], color='blue')\n",
        "plt.xlabel('Gross')\n",
        "plt.title('Plot of main actor/actress and Gross of Movies')\n",
        "plt.show()"
      ]
    },
    {
      "cell_type": "markdown",
      "metadata": {
        "id": "tpucNnJ6jedo"
      },
      "source": [
        "### 2.5.11 country vs gross"
      ]
    },
    {
      "cell_type": "code",
      "execution_count": null,
      "metadata": {
        "colab": {
          "base_uri": "https://localhost:8080/",
          "height": 480
        },
        "id": "z-veWrpGjoBJ",
        "outputId": "4e12aadd-9bcf-4a14-c25e-24502945abcd"
      },
      "outputs": [],
      "source": [
        "grouped_df = movies_metadata_df.groupby('country')['gross'].sum().reset_index()\n",
        "grouped_df = grouped_df.sort_values('gross', ascending=False).head(20)\n",
        "\n",
        "# Create a horizontal bar plot\n",
        "plt.barh(grouped_df['country'], grouped_df['gross'], color='blue')\n",
        "plt.xlabel('Gross')\n",
        "plt.title('Plot of Country and Gross of Movies')\n",
        "plt.show()"
      ]
    },
    {
      "cell_type": "code",
      "execution_count": null,
      "metadata": {
        "colab": {
          "base_uri": "https://localhost:8080/",
          "height": 573
        },
        "id": "Qva1s4nakNvs",
        "outputId": "13fa5fed-1c53-4703-fba6-b54402ed7c2f"
      },
      "outputs": [],
      "source": [
        "import pandas as pd\n",
        "import matplotlib.pyplot as plt\n",
        "\n",
        "# Count the number of movies in each country\n",
        "country_counts = movies_metadata_df['country'].value_counts()\n",
        "\n",
        "# Create a bar plot\n",
        "plt.figure(figsize=(10, 6))\n",
        "plt.bar(country_counts.index, country_counts.values, color='blue')\n",
        "plt.xlabel('Country')\n",
        "plt.xticks(rotation=90)\n",
        "plt.ylabel('Number of Movies')\n",
        "plt.title('Number of Movies in Each Country')\n",
        "plt.show()\n"
      ]
    },
    {
      "cell_type": "markdown",
      "metadata": {
        "id": "vtKCvEiysTQr"
      },
      "source": [
        "### 2.5.12 Runtime vs Gross"
      ]
    },
    {
      "cell_type": "code",
      "execution_count": null,
      "metadata": {
        "colab": {
          "base_uri": "https://localhost:8080/",
          "height": 480
        },
        "id": "btBC7lmXsWuN",
        "outputId": "99210c7a-2594-4a56-f921-a93cb20f1b72"
      },
      "outputs": [],
      "source": [
        "plt.scatter(movies_metadata_df['runtime'], movies_metadata_df['gross'])\n",
        "plt.xlabel('runtime ')\n",
        "plt.ylabel('gross')\n",
        "plt.title('Scatter Plot: runtime vs gross')\n",
        "plt.show()"
      ]
    },
    {
      "cell_type": "code",
      "execution_count": null,
      "metadata": {
        "colab": {
          "base_uri": "https://localhost:8080/",
          "height": 480
        },
        "id": "CcZfoJGLk3PN",
        "outputId": "68ef8761-9a79-4ad5-ffa4-de9594208b76"
      },
      "outputs": [],
      "source": [
        "plt.scatter(movies_metadata_df['runtime'], movies_metadata_df['successful'])\n",
        "plt.xlabel('runtime ')\n",
        "plt.ylabel('successful')\n",
        "plt.title('Scatter Plot: runtime vs successful')\n",
        "plt.show()"
      ]
    },
    {
      "cell_type": "markdown",
      "metadata": {
        "id": "u4lVXRHju5C_"
      },
      "source": [
        "=> compare nó với revenue > 2*budget"
      ]
    },
    {
      "cell_type": "markdown",
      "metadata": {
        "id": "9_uvOjXnk-U8"
      },
      "source": [
        "### 2.5.13 Gross vs Successful"
      ]
    },
    {
      "cell_type": "code",
      "execution_count": null,
      "metadata": {
        "colab": {
          "base_uri": "https://localhost:8080/",
          "height": 480
        },
        "id": "sixM4kb-lBbe",
        "outputId": "b34cf946-fec1-4a1b-dcd3-56cbd69f7444"
      },
      "outputs": [],
      "source": [
        "plt.scatter(movies_metadata_df['gross'], movies_metadata_df['successful'])\n",
        "plt.xlabel('gross ')\n",
        "plt.ylabel('successful')\n",
        "plt.title('Scatter Plot: successful vs gross')\n",
        "plt.show()"
      ]
    },
    {
      "cell_type": "code",
      "execution_count": null,
      "metadata": {
        "id": "wQiaCgFMqJma"
      },
      "outputs": [],
      "source": [
        "from sklearn.preprocessing import LabelEncoder\n",
        "\n",
        "# Assuming you have a DataFrame 'data'\n",
        "categorical_features = ['genre','company', 'director', 'writer', 'star', 'country']\n",
        "\n",
        "# Encode categorical features\n",
        "encoder = LabelEncoder()\n",
        "for feature in categorical_features:\n",
        "  movies_metadata_df[f'{feature}_encoded'] = encoder.fit_transform(movies_metadata_df[feature])"
      ]
    },
    {
      "cell_type": "code",
      "execution_count": null,
      "metadata": {
        "id": "KBMg0k8bqGaO"
      },
      "outputs": [],
      "source": [
        "month_map = {'January': 1, 'February': 2, 'March': 3, 'April': 4, 'May': 5, 'June': 6, 'July': 7,'August': 8, 'September': 9, 'October': 10, 'November': 11, 'December': 12}\n",
        "\n",
        "# Replace month names with corresponding numbers\n",
        "movies_metadata_df['month_converted'] = movies_metadata_df['month'].replace(month_map)"
      ]
    },
    {
      "cell_type": "code",
      "execution_count": null,
      "metadata": {
        "id": "I2-G9cWaqOZ8"
      },
      "outputs": [],
      "source": [
        "movies_metadata_df = movies_metadata_df[movies_metadata_df['month'] != 'Unknown']"
      ]
    },
    {
      "cell_type": "code",
      "execution_count": null,
      "metadata": {
        "colab": {
          "base_uri": "https://localhost:8080/"
        },
        "id": "9ZvS2HLWpylE",
        "outputId": "55a820d5-f74a-4e93-e00e-4e49bfe83191"
      },
      "outputs": [],
      "source": [
        "movies_metadata_df['month_converted']"
      ]
    },
    {
      "cell_type": "code",
      "execution_count": null,
      "metadata": {
        "colab": {
          "base_uri": "https://localhost:8080/",
          "height": 601
        },
        "id": "JqCUBfsUpiAn",
        "outputId": "53f5c35b-99d7-4e7e-ee96-3b7bc7bce824"
      },
      "outputs": [],
      "source": [
        "import pandas as pd\n",
        "from sklearn.linear_model import LinearRegression\n",
        "from sklearn.metrics import r2_score\n",
        "import matplotlib.pyplot as plt\n",
        "\n",
        "\n",
        "# Select score as the independent variable\n",
        "X = movies_metadata_df[['score']]\n",
        "\n",
        "# List of features to analyze (replace with your actual features)\n",
        "features = ['genre_encoded', 'director_encoded',\n",
        "       'writer_encoded', 'star_encoded', 'country_encoded', 'budget', 'company_encoded', 'runtime',\n",
        "       'month_converted', 'votes']  # Include 'gross' for comparison\n",
        "\n",
        "# Create an empty list to store R-squared values\n",
        "r_squared_values = []\n",
        "\n",
        "# Loop through features\n",
        "for feature in features:\n",
        "  y = movies_metadata_df[feature]  # Assign each feature as the dependent variable\n",
        "\n",
        "  # Rest of the code for model creation, fitting, R-squared calculation\n",
        "  model = LinearRegression()\n",
        "  model.fit(X, y)\n",
        "  predicted_y = model.predict(X)\n",
        "  r_squared = r2_score(y, predicted_y)\n",
        "  r_squared_values.append(r_squared)  # Store R-squared for each feature\n",
        "\n",
        "# Bar chart creation\n",
        "plt.figure(figsize=(10, 6))  # Adjust figure size as needed\n",
        "plt.bar(features, r_squared_values, color='skyblue')\n",
        "plt.xlabel(\"Features\")\n",
        "plt.ylabel(\"R-squared\")\n",
        "plt.title(\"R-squared of Score vs. Other Features\")\n",
        "plt.xticks(rotation=45, ha='right')  # Rotate feature names for readability\n",
        "plt.tight_layout()\n",
        "plt.show()\n"
      ]
    },
    {
      "cell_type": "code",
      "execution_count": null,
      "metadata": {
        "colab": {
          "base_uri": "https://localhost:8080/",
          "height": 601
        },
        "id": "ZAAURx_aq5hp",
        "outputId": "ec3c75ea-2227-4337-b7a3-3f8d7e0c8256"
      },
      "outputs": [],
      "source": [
        "import pandas as pd\n",
        "from sklearn.linear_model import LinearRegression\n",
        "from sklearn.metrics import r2_score\n",
        "import matplotlib.pyplot as plt\n",
        "\n",
        "\n",
        "# Select score as the independent variable\n",
        "X = movies_metadata_df[['gross']]\n",
        "\n",
        "# List of features to analyze (replace with your actual features)\n",
        "features = ['genre_encoded', 'director_encoded',\n",
        "       'writer_encoded', 'star_encoded', 'country_encoded', 'budget', 'company_encoded', 'runtime',\n",
        "       'month_converted']  # Include 'gross' for comparison\n",
        "\n",
        "# Create an empty list to store R-squared values\n",
        "r_squared_values = []\n",
        "\n",
        "# Loop through features\n",
        "for feature in features:\n",
        "  y = movies_metadata_df[feature]  # Assign each feature as the dependent variable\n",
        "\n",
        "  # Rest of the code for model creation, fitting, R-squared calculation\n",
        "  model = LinearRegression()\n",
        "  model.fit(X, y)\n",
        "  predicted_y = model.predict(X)\n",
        "  r_squared = r2_score(y, predicted_y)\n",
        "  r_squared_values.append(r_squared)  # Store R-squared for each feature\n",
        "\n",
        "# Bar chart creation\n",
        "plt.figure(figsize=(10, 6))  # Adjust figure size as needed\n",
        "plt.bar(features, r_squared_values, color='skyblue')\n",
        "plt.xlabel(\"Features\")\n",
        "plt.ylabel(\"R-squared\")\n",
        "plt.title(\"R-squared of Gross  vs. Other Features\")\n",
        "plt.xticks(rotation=45, ha='right')  # Rotate feature names for readability\n",
        "plt.tight_layout()\n",
        "plt.show()\n"
      ]
    },
    {
      "cell_type": "code",
      "execution_count": null,
      "metadata": {
        "colab": {
          "base_uri": "https://localhost:8080/"
        },
        "id": "X9z5ZBDQ0PkR",
        "outputId": "4facf51f-2f7d-4fc6-883c-4fa36f72742c"
      },
      "outputs": [],
      "source": [
        "from numpy import corrcoef\n",
        "correlation = corrcoef(X.T)\n",
        "\n",
        "# Print the correlation matrix (optional)\n",
        "print(\"Correlation Matrix:\")\n",
        "print(correlation)"
      ]
    },
    {
      "cell_type": "code",
      "execution_count": null,
      "metadata": {
        "colab": {
          "base_uri": "https://localhost:8080/"
        },
        "id": "GSXjbmKFolfQ",
        "outputId": "68610762-1e00-4f87-83a6-01450a071a7f"
      },
      "outputs": [],
      "source": [
        "import pandas as pd\n",
        "from sklearn.linear_model import LinearRegression\n",
        "from sklearn.metrics import r2_score\n",
        "\n",
        "# Select score and gross columns\n",
        "X = movies_metadata_df[['score']]  # Independent variable (score)\n",
        "y = movies_metadata_df['gross']    # Dependent variable (gross)\n",
        "\n",
        "# Create a linear regression model\n",
        "model = LinearRegression()\n",
        "\n",
        "# Fit the model to the data\n",
        "model.fit(X, y)\n",
        "\n",
        "# Make predictions (not needed for this analysis, but optional)\n",
        "predicted_gross = model.predict(X)\n",
        "\n",
        "# Get the coefficient of determination (R-squared)\n",
        "r_squared = r2_score(y, predicted_gross)\n",
        "\n",
        "# Get the p-value of the slope coefficient\n",
        "p_value = model.coef_[0]  # Access the first coefficient (slope) p-value\n",
        "\n",
        "# Print the results\n",
        "print(f\"R-squared: {r_squared:.4f}\")\n",
        "print(f\"p-value of slope coefficient: {p_value:.4f}\")\n",
        "epsilon = 0.05\n",
        "# Interpretation\n",
        "if r_squared < epsilon and p_value > 0.05:\n",
        "  print(\"This suggests score and gross might be independent variables.\")\n",
        "else:\n",
        "  print(\"The results do not strongly support the independence of score and gross.\")\n"
      ]
    },
    {
      "cell_type": "code",
      "execution_count": null,
      "metadata": {
        "colab": {
          "base_uri": "https://localhost:8080/",
          "height": 591
        },
        "id": "c6XNFSwtymkI",
        "outputId": "90c41d45-81db-480c-f6b6-713ded9204bc"
      },
      "outputs": [],
      "source": [
        "import seaborn as sns\n",
        "import matplotlib.pyplot as plt\n",
        "from scipy import stats\n",
        "import pandas as pd\n",
        "from sklearn.linear_model import LinearRegression\n",
        "from sklearn.metrics import r2_score\n",
        "\n",
        "# Linear Regression\n",
        "X = movies_metadata_df[['score']]\n",
        "y = movies_metadata_df['gross']\n",
        "model = LinearRegression().fit(X, y)\n",
        "predicted_gross = model.predict(X)\n",
        "\n",
        "# Calculate metrics\n",
        "r_squared = r2_score(y, predicted_gross)\n",
        "slope, intercept, r_value, p_value, std_err = stats.linregress(movies_metadata_df['score'], movies_metadata_df['gross'])\n",
        "\n",
        "# Create scatter plot with seaborn\n",
        "sns.set_theme(style=\"darkgrid\", rc={\"axes.facecolor\": \".8\"})\n",
        "plt.figure(figsize=(10, 6))\n",
        "sns.regplot(x='score', y='gross', data=movies_metadata_df,\n",
        "            scatter_kws={'s': 20, 'alpha': 0.7}, line_kws={'color': 'black'})\n",
        "\n",
        "# Add labels and title\n",
        "plt.xlabel('IMDB Score', fontsize=12)\n",
        "plt.ylabel('Gross (in millions)', fontsize=12)\n",
        "plt.title('IMDB Score vs. Gross', fontsize=14)\n",
        "\n",
        "# Optionally add text annotations for R-squared and p-value directly on the plot\n",
        "plt.text(0.05, 0.95, f\"R-squared: {r_squared:.3f}\", transform=plt.gca().transAxes)\n",
        "plt.text(0.05, 0.90, f\"p-value: {p_value:.3f}\", transform=plt.gca().transAxes)\n",
        "plt.ticklabel_format(style='plain', axis='y')\n",
        "# Show the plot\n",
        "plt.show()\n",
        "\n",
        "# Interpretation\n",
        "if r_squared < epsilon and p_value > 0.05:\n",
        "  print(\"This suggests score and gross might be independent variables.\")\n",
        "else:\n",
        "  print(\"The results do not strongly support the independence of score and gross.\")\n"
      ]
    },
    {
      "cell_type": "code",
      "execution_count": null,
      "metadata": {
        "colab": {
          "base_uri": "https://localhost:8080/",
          "height": 477
        },
        "id": "74ECYwHA_RoB",
        "outputId": "6104a21e-2abb-4f03-f036-cd01c9e32229"
      },
      "outputs": [],
      "source": [
        "# Group by 'Director' and sum 'Revenue'\n",
        "grouped_df = movies_metadata_df.groupby('director')['gross'].sum().reset_index()\n",
        "\n",
        "# Sort the DataFrame by 'Revenue' in descending order for better visualization\n",
        "grouped_df = grouped_df.sort_values('gross', ascending=False).head(10)\n",
        "\n",
        "# Create a horizontal bar plot\n",
        "plt.barh(grouped_df['director'], grouped_df['gross'], color='blue')\n",
        "plt.xlabel('Gross')\n",
        "plt.title('Plot of Director and Revenue of Movies')\n",
        "plt.show()"
      ]
    },
    {
      "cell_type": "markdown",
      "metadata": {
        "id": "SAPx9PUnM6Il"
      },
      "source": [
        "# 3. Baseline Model Building"
      ]
    },
    {
      "cell_type": "markdown",
      "metadata": {
        "id": "_9JI6c99M6Il"
      },
      "source": [
        "## 3.1. Feature Engineering"
      ]
    },
    {
      "cell_type": "code",
      "execution_count": null,
      "metadata": {
        "id": "Fruw7EMcw2oI"
      },
      "outputs": [],
      "source": [
        "from sklearn.metrics import confusion_matrix, accuracy_score, classification_report\n",
        "from sklearn.model_selection import train_test_split"
      ]
    },
    {
      "cell_type": "markdown",
      "metadata": {
        "id": "DTpalYQG1nkP"
      },
      "source": [
        "**convert month to season**"
      ]
    },
    {
      "cell_type": "code",
      "execution_count": null,
      "metadata": {
        "id": "SULbsLBszEor"
      },
      "outputs": [],
      "source": [
        "def convert_month_to_season(month):\n",
        "    if month in [1, 2, 3]:\n",
        "        return 'Spring'\n",
        "    elif month in [4, 5, 6]:\n",
        "        return 'Summer'\n",
        "    elif month in [7, 8, 9]:\n",
        "        return 'Fall'\n",
        "    else:\n",
        "        return 'Winter'\n",
        "movies_metadata_df['season'] = movies_metadata_df['month'].apply(convert_month_to_season)"
      ]
    },
    {
      "cell_type": "code",
      "execution_count": null,
      "metadata": {
        "colab": {
          "base_uri": "https://localhost:8080/"
        },
        "id": "RUNsMhCF1dGk",
        "outputId": "a415566c-a557-49e5-8b35-3dd95ca25e13"
      },
      "outputs": [],
      "source": [
        "movies_metadata_df['season']"
      ]
    },
    {
      "cell_type": "markdown",
      "metadata": {
        "id": "FqiaI5WB1rBG"
      },
      "source": [
        "**Convert runtime to Short, Medium, Long**"
      ]
    },
    {
      "cell_type": "code",
      "execution_count": null,
      "metadata": {
        "id": "xXm-OxYB1vAM"
      },
      "outputs": [],
      "source": [
        "def convert_runtime_to_bin(runtime):\n",
        "    if runtime >= 0 and runtime < 90:\n",
        "        return 'Short'\n",
        "    elif runtime >= 90 and runtime < 120:\n",
        "        return 'Medium'\n",
        "    elif runtime >= 120:\n",
        "        return 'Long'\n",
        "movies_metadata_df['runtime_range'] = movies_metadata_df['runtime'].apply(convert_runtime_to_bin)"
      ]
    },
    {
      "cell_type": "code",
      "execution_count": null,
      "metadata": {
        "colab": {
          "base_uri": "https://localhost:8080/"
        },
        "id": "OY4MvcGO2TmQ",
        "outputId": "03af4318-6f70-429f-ba39-a61336cfd836"
      },
      "outputs": [],
      "source": [
        "movies_metadata_df['runtime_range']"
      ]
    },
    {
      "cell_type": "markdown",
      "metadata": {
        "id": "XAG_fQf12l9I"
      },
      "source": [
        "**Group rating to 5 main types: R, PG, G, PG-13, Unknown**"
      ]
    },
    {
      "cell_type": "code",
      "execution_count": null,
      "metadata": {
        "id": "P5FCICYe_Qsy"
      },
      "outputs": [],
      "source": [
        "def combine_rating(rating):\n",
        "    if rating in [\"R\", \"NC-17\", \"TV-MA\"]:\n",
        "        return 'R'\n",
        "    elif rating in [\"G\", \"Approved\"]:\n",
        "        return 'G'\n",
        "    elif rating in [\"PG-13\", \"TV-14\"]:\n",
        "        return 'PG-13'\n",
        "    elif rating in [\"PG\", \"TV-PG\"]:\n",
        "        return 'PG'\n",
        "    else:\n",
        "      return 'Unkown'\n",
        "movies_metadata_df['rating_converted'] = movies_metadata_df['rating'].apply(combine_rating)"
      ]
    },
    {
      "cell_type": "code",
      "execution_count": null,
      "metadata": {
        "colab": {
          "base_uri": "https://localhost:8080/"
        },
        "id": "gDtcDChA7-WO",
        "outputId": "1c7bda5b-3e2e-4819-9440-530bef0a03bf"
      },
      "outputs": [],
      "source": [
        "movies_metadata_df['rating_converted'].unique()"
      ]
    },
    {
      "cell_type": "code",
      "execution_count": null,
      "metadata": {
        "id": "XBvBnDzFU66r"
      },
      "outputs": [],
      "source": [
        "movies_metadata_df['profit'] = movies_metadata_df['gross'] - movies_metadata_df['budget']"
      ]
    },
    {
      "cell_type": "markdown",
      "metadata": {
        "id": "4ZG2ORPRXuqj"
      },
      "source": [
        "**Convert director to best_director**"
      ]
    },
    {
      "cell_type": "code",
      "execution_count": null,
      "metadata": {
        "colab": {
          "base_uri": "https://localhost:8080/"
        },
        "id": "KCMzrR_qtZ4R",
        "outputId": "7c89e61f-77ca-4969-fc3b-9da24f3c43fd"
      },
      "outputs": [],
      "source": [
        "%cd /content/drive/MyDrive/Khai thác dữ liệu và ứng dụng - T5/Final_dataset/MoviesIndustry"
      ]
    },
    {
      "cell_type": "code",
      "execution_count": null,
      "metadata": {
        "id": "j-fTLKOPt7IE"
      },
      "outputs": [],
      "source": [
        "import pandas as pd\n",
        "\n",
        "# Calculate the profit for each row\n",
        "# Calculate the total profit for each director\n",
        "total_profit = movies_metadata_df.groupby('director')['profit'].sum()\n",
        "\n",
        "# Calculate the mean profit of the whole dataset\n",
        "mean_profit = movies_metadata_df['profit'].mean()\n",
        "\n",
        "# Create a new column 'director_score'\n",
        "movies_metadata_df['director_score'] = movies_metadata_df['director'].map(total_profit)\n",
        "\n",
        "# Set the values based on the condition\n",
        "movies_metadata_df['director_score'] = movies_metadata_df['director_score'].apply(lambda x: 5 if x > mean_profit else (3 if x == mean_profit else (1 if x > 0 and x < mean_profit else 0)))"
      ]
    },
    {
      "cell_type": "code",
      "execution_count": null,
      "metadata": {
        "id": "51x6yuEatgGA"
      },
      "outputs": [],
      "source": [
        "movies_metadata_df['director_score'].unique()"
      ]
    },
    {
      "cell_type": "code",
      "execution_count": null,
      "metadata": {
        "id": "4F9DQcg_2QWg"
      },
      "outputs": [],
      "source": [
        "unique_director_df = movies_metadata_df[['director', 'director_score']].drop_duplicates()\n",
        "print(unique_director_df.shape)\n",
        "\n",
        "# Save the DataFrame to a CSV file\n",
        "unique_director_df.to_csv('data/director.csv', index=False)"
      ]
    },
    {
      "cell_type": "code",
      "execution_count": null,
      "metadata": {
        "id": "EtLq6vwTPl4N"
      },
      "outputs": [],
      "source": [
        "import pandas as pd\n",
        "\n",
        "# Calculate the profit for each row\n",
        "movies_metadata_df['profit'] = movies_metadata_df['gross'] - movies_metadata_df['budget']\n",
        "\n",
        "# Calculate the total profit for each company\n",
        "total_profit = movies_metadata_df.groupby('company')['profit'].sum()\n",
        "\n",
        "# Calculate the mean profit of the whole dataset\n",
        "mean_profit = movies_metadata_df['profit'].mean()\n",
        "\n",
        "# Create a new column 'company_score'\n",
        "movies_metadata_df['company_score'] = movies_metadata_df['company'].map(total_profit)\n",
        "\n",
        "# Set the values based on the condition\n",
        "movies_metadata_df['company_score'] = movies_metadata_df['company_score'].apply(lambda x: 5 if x > mean_profit else (3 if x == mean_profit else (1 if x > 0 and x < mean_profit else 0)))\n"
      ]
    },
    {
      "cell_type": "code",
      "execution_count": null,
      "metadata": {
        "id": "-yBj4eZdcE1z"
      },
      "outputs": [],
      "source": [
        "# Create a new DataFrame with unique 'company' and 'company_score' rows\n",
        "unique_company_df = movies_metadata_df[['company', 'company_score']].drop_duplicates()\n",
        "print(unique_company_df.shape)\n",
        "\n",
        "# Save the DataFrame to a CSV file\n",
        "unique_company_df.to_csv('data/company.csv', index=False)"
      ]
    },
    {
      "cell_type": "code",
      "execution_count": null,
      "metadata": {
        "id": "_cvIk2M6QAK-"
      },
      "outputs": [],
      "source": [
        "import pandas as pd\n",
        "\n",
        "# Assuming df is your DataFrame, 'revenue' and 'budget' are the columns with the revenue and budget values, and 'genre' is the column with the genre names\n",
        "# Calculate the profit for each row\n",
        "movies_metadata_df['profit'] = movies_metadata_df['gross'] - movies_metadata_df['budget']\n",
        "\n",
        "# Calculate the total profit for each genre\n",
        "total_profit = movies_metadata_df.groupby('genre')['profit'].sum()\n",
        "\n",
        "# Calculate the mean profit of the whole dataset\n",
        "mean_profit = movies_metadata_df['profit'].mean()\n",
        "\n",
        "# Create a new column 'genre_score'\n",
        "movies_metadata_df['genre_score'] = movies_metadata_df['genre'].map(total_profit)\n",
        "\n",
        "# Set the values based on the condition\n",
        "movies_metadata_df['genre_score'] = movies_metadata_df['genre_score'].apply(lambda x: 5 if x > mean_profit else (3 if x == mean_profit else (1 if x > 0 and x < mean_profit else 0)))\n"
      ]
    },
    {
      "cell_type": "code",
      "execution_count": null,
      "metadata": {
        "id": "lLoHArv4dC8H"
      },
      "outputs": [],
      "source": [
        "# Create a new DataFrame with unique 'genre' and 'genre_score' rows\n",
        "unique_genre_df = movies_metadata_df[['genre', 'genre_score']].drop_duplicates()\n",
        "print(unique_genre_df.shape)\n",
        "\n",
        "# Save the DataFrame to a CSV file\n",
        "unique_genre_df.to_csv('data/genre.csv', index=False)"
      ]
    },
    {
      "cell_type": "code",
      "execution_count": null,
      "metadata": {
        "id": "frdoxLV8QJy-"
      },
      "outputs": [],
      "source": [
        "import pandas as pd\n",
        "\n",
        "# Assuming df is your DataFrame, 'revenue' and 'budget' are the columns with the revenue and budget values, and 'genre' is the column with the genre names\n",
        "# Calculate the profit for each row\n",
        "movies_metadata_df['profit'] = movies_metadata_df['gross'] - movies_metadata_df['budget']\n",
        "\n",
        "# Calculate the total profit for each start\n",
        "total_profit = movies_metadata_df.groupby('star')['profit'].sum()\n",
        "\n",
        "# Calculate the mean profit of the whole dataset\n",
        "mean_profit = movies_metadata_df['profit'].mean()\n",
        "\n",
        "# Create a new column 'start_score'\n",
        "movies_metadata_df['star_score'] = movies_metadata_df['star'].map(total_profit)\n",
        "\n",
        "# Set the values based on the condition\n",
        "movies_metadata_df['star_score'] = movies_metadata_df['star_score'].apply(lambda x: 5 if x > mean_profit else (3 if x == mean_profit else (1 if x > 0 and x < mean_profit else 0)))\n"
      ]
    },
    {
      "cell_type": "code",
      "execution_count": null,
      "metadata": {
        "id": "NOD1mh_zdqqx"
      },
      "outputs": [],
      "source": [
        "# Create a new DataFrame with unique 'start' and 'start_score' rows\n",
        "unique_start_df = movies_metadata_df[['star', 'star_score']].drop_duplicates()\n",
        "print(unique_start_df.shape)\n",
        "\n",
        "# Save the DataFrame to a CSV file\n",
        "unique_start_df.to_csv('data/star.csv', index=False)"
      ]
    },
    {
      "cell_type": "code",
      "execution_count": null,
      "metadata": {
        "id": "cB0ZEYsuTXbC"
      },
      "outputs": [],
      "source": [
        "import pandas as pd\n",
        "\n",
        "# Assuming df is your DataFrame, 'revenue' and 'budget' are the columns with the revenue and budget values, and 'genre' is the column with the genre names\n",
        "# Calculate the profit for each row\n",
        "movies_metadata_df['profit'] = movies_metadata_df['gross'] - movies_metadata_df['budget']\n",
        "\n",
        "# Calculate the total profit for each writer\n",
        "total_profit = movies_metadata_df.groupby('writer')['profit'].sum()\n",
        "\n",
        "# Calculate the mean profit of the whole dataset\n",
        "mean_profit = movies_metadata_df['profit'].mean()\n",
        "\n",
        "# Create a new column 'writer_score'\n",
        "movies_metadata_df['writer_score'] = movies_metadata_df['writer'].map(total_profit)\n",
        "\n",
        "# Set the values based on the condition\n",
        "movies_metadata_df['writer_score'] = movies_metadata_df['writer_score'].apply(lambda x: 5 if x > mean_profit else (3 if x == mean_profit else (1 if x > 0 and x < mean_profit else 0)))\n"
      ]
    },
    {
      "cell_type": "code",
      "execution_count": null,
      "metadata": {
        "id": "pmYdMhkcd4Xz"
      },
      "outputs": [],
      "source": [
        "# Create a new DataFrame with unique 'writer' and 'writer_score' rows\n",
        "unique_company_df = movies_metadata_df[['writer', 'writer_score']].drop_duplicates()\n",
        "print(unique_company_df.shape)\n",
        "\n",
        "# Save the DataFrame to a CSV file\n",
        "unique_company_df.to_csv('data/writer.csv', index=False)"
      ]
    },
    {
      "cell_type": "code",
      "execution_count": null,
      "metadata": {},
      "outputs": [],
      "source": [
        "movies_metadata_df.to_csv(\"data/CleanData.csv\")"
      ]
    },
    {
      "cell_type": "markdown",
      "metadata": {
        "id": "ZhDCanyaM6Im"
      },
      "source": [
        "## 3.2. Creating the Model\n",
        "\n",
        "As mentioned before, the chosen model for the baseline will be the classic Linear Regression, next are the train/test split, model building, predicting using the model, and model evaluation."
      ]
    },
    {
      "cell_type": "code",
      "execution_count": null,
      "metadata": {},
      "outputs": [],
      "source": [
        "movies_metadata_df.columns"
      ]
    },
    {
      "cell_type": "code",
      "execution_count": null,
      "metadata": {},
      "outputs": [],
      "source": [
        "from sklearn.preprocessing import LabelEncoder\n",
        "\n",
        "# Assuming df is your DataFrame and 'category' is the column with categorical data\n",
        "le = LabelEncoder()\n",
        "movies_metadata_df['director'] = le.fit_transform(movies_metadata_df['director'])\n",
        "movies_metadata_df['genre'] = le.fit_transform(movies_metadata_df['genre'])\n",
        "movies_metadata_df['company'] = le.fit_transform(movies_metadata_df['company'])\n",
        "movies_metadata_df['star'] = le.fit_transform(movies_metadata_df['star'])\n",
        "movies_metadata_df['writer'] = le.fit_transform(movies_metadata_df['writer'])\n",
        "movies_metadata_df['country'] = le.fit_transform(movies_metadata_df['country'])\n",
        "movies_metadata_df['rating'] = le.fit_transform(movies_metadata_df['rating'])\n",
        "movies_metadata_df['released'] = le.fit_transform(movies_metadata_df['released'])\n",
        "movies_metadata_df['rating'] = le.fit_transform(movies_metadata_df['rating'])\n",
        "movies_metadata_df['season'] = le.fit_transform(movies_metadata_df['season'])"
      ]
    },
    {
      "cell_type": "code",
      "execution_count": null,
      "metadata": {},
      "outputs": [],
      "source": [
        "movies_metadata_df['rating_converted'] = le.fit_transform(movies_metadata_df['rating_converted'])"
      ]
    },
    {
      "cell_type": "code",
      "execution_count": null,
      "metadata": {},
      "outputs": [],
      "source": [
        "unknown_count = movies_metadata_df['month'].value_counts().get('Unknown', 0)\n",
        "print(f\"Number of 'Unknown' month values: {unknown_count}\")"
      ]
    },
    {
      "cell_type": "code",
      "execution_count": null,
      "metadata": {},
      "outputs": [],
      "source": [
        "movies_metadata_df = movies_metadata_df[movies_metadata_df['month'] != 'Unknown']"
      ]
    },
    {
      "cell_type": "code",
      "execution_count": null,
      "metadata": {},
      "outputs": [],
      "source": [
        "month_map = {'January': 1, 'February': 2, 'March': 3, 'April': 4, 'May': 5, 'June': 6, 'July': 7,'August': 8, 'September': 9, 'October': 10, 'November': 11, 'December': 12}\n",
        "\n",
        "# Replace month names with corresponding numbers\n",
        "movies_metadata_df['month_converted'] = movies_metadata_df['month'].replace(month_map)"
      ]
    },
    {
      "cell_type": "markdown",
      "metadata": {},
      "source": [
        "### 3.2.1 Linear Regrssion"
      ]
    },
    {
      "cell_type": "code",
      "execution_count": null,
      "metadata": {},
      "outputs": [],
      "source": [
        "import numpy as np\n",
        "import pandas as pd\n",
        "from sklearn.model_selection import train_test_split\n",
        "from sklearn.linear_model import LinearRegression\n",
        "from sklearn.tree import DecisionTreeClassifier\n",
        "from sklearn.metrics import mean_absolute_error\n",
        "from sklearn.model_selection import GridSearchCV\n",
        "import pickle"
      ]
    },
    {
      "cell_type": "code",
      "execution_count": null,
      "metadata": {},
      "outputs": [],
      "source": [
        "# Split the data into training and testing sets\n",
        "X = movies_metadata_df[['budget', 'runtime', 'rating_converted', 'director_score', 'company_score', 'genre_score', 'star_score', 'writer_score', 'month_converted']]\n",
        "y = movies_metadata_df['profit']\n",
        "X_train, X_test, y_train, y_test = train_test_split(X, y, test_size=0.2, random_state=42)"
      ]
    },
    {
      "cell_type": "code",
      "execution_count": null,
      "metadata": {},
      "outputs": [],
      "source": [
        "# Build the linear regression model\n",
        "model = LinearRegression()\n",
        "model.fit(X_train, y_train)\n",
        "\n",
        "# Predict using the model\n",
        "y_pred = model.predict(X_test)\n",
        "\n",
        "# Evaluate the model\n",
        "mae = mean_absolute_error(y_test, y_pred)\n",
        "print(\"Mean absolute error:\", mae)"
      ]
    },
    {
      "cell_type": "code",
      "execution_count": null,
      "metadata": {},
      "outputs": [],
      "source": [
        "# Perform grid search for Linear Regression\n",
        "param_grid = {\n",
        "    'fit_intercept': [True, False],\n",
        "    'copy_X': [True, False],\n",
        "    'positive': [True, False],\n",
        "    'n_jobs': [None]\n",
        "}\n",
        "grid_search = GridSearchCV(LinearRegression(), param_grid, cv=5, scoring='neg_mean_absolute_error')\n",
        "grid_search.fit(X_train, y_train)\n",
        "\n",
        "best_params = grid_search.best_params_\n",
        "best_model = grid_search.best_estimator_\n",
        "\n",
        "print(\"Best parameters:\", best_params)\n",
        "\n",
        "# Predict using the best model\n",
        "y_pred = best_model.predict(X_test)\n",
        "mae = mean_absolute_error(y_test, y_pred)\n",
        "print(\"Mean absolute error:\", mae)"
      ]
    },
    {
      "cell_type": "code",
      "execution_count": null,
      "metadata": {},
      "outputs": [],
      "source": [
        "# Save the best model\n",
        "with open('model/LinearRegression.sav', 'wb') as lr_model_file:\n",
        "    pickle.dump(best_model, lr_model_file)"
      ]
    },
    {
      "cell_type": "markdown",
      "metadata": {
        "id": "v2JZQMfUtOWo"
      },
      "source": [
        "### 3.2.1 Decision Tree"
      ]
    },
    {
      "cell_type": "markdown",
      "metadata": {
        "id": "m2FvOXzvMCZg"
      },
      "source": [
        "**Decision Tree without Data Insight**"
      ]
    },
    {
      "cell_type": "code",
      "execution_count": null,
      "metadata": {
        "id": "Q9yWsHRxLT_I"
      },
      "outputs": [],
      "source": [
        "# Split the data into training and testing sets\n",
        "\n",
        "X = movies_metadata_df[['rating', 'genre','year', 'released',  'writer', 'star', 'country', 'budget', 'company', 'runtime']]\n",
        "y = movies_metadata_df['successful']\n",
        "\n",
        "X_train, X_test, y_train, y_test = train_test_split(X, y, test_size=0.2, random_state=42)"
      ]
    },
    {
      "cell_type": "code",
      "execution_count": null,
      "metadata": {
        "colab": {
          "base_uri": "https://localhost:8080/"
        },
        "id": "bn5Q2ZTDMIAz",
        "outputId": "87ac0129-6ea4-4415-831b-5fcd6d8ea0c7"
      },
      "outputs": [],
      "source": [
        "# finding best parameter for Decision Tree\n",
        "from sklearn.model_selection import GridSearchCV\n",
        "from sklearn.tree import DecisionTreeClassifier\n",
        "\n",
        "import numpy as np\n",
        "param_grid = {\n",
        "    'criterion': ['gini', 'entropy'],\n",
        "    'splitter': ['best', 'random'],\n",
        "    'max_depth': [None, 5, 10, 20],\n",
        "    'min_samples_split': [2, 5, 10],\n",
        "    'min_samples_leaf': [1, 2, 4],\n",
        "    'class_weight': ['balanced', None],\n",
        "    'random_state': [42]\n",
        "}\n",
        "\n",
        "grid_search = GridSearchCV(DecisionTreeClassifier(), param_grid, cv=5, scoring='neg_mean_absolute_error')\n",
        "grid_search.fit(X_train, y_train)\n",
        "\n",
        "best_params = grid_search.best_params_\n",
        "best_model = grid_search.best_estimator_\n",
        "\n",
        "print(\"Best parameters:\", best_params)\n",
        "\n",
        "y_pred = best_model.predict(X_test)\n",
        "mae = mean_absolute_error(y_test, y_pred)\n",
        "print(\"Mean absolute error:\", mae)\n",
        "\n",
        "# Convert the predictions to binary values (0 or 1)\n",
        "y_pred_binary = np.where(y_pred > 0.5, 1, 0)\n",
        "\n",
        "# Calculate accuracy\n",
        "accuracy = np.mean(y_pred_binary == y_test)\n",
        "print(\"Accuracy:\", accuracy)\n"
      ]
    },
    {
      "cell_type": "code",
      "execution_count": null,
      "metadata": {
        "id": "hu3FgNcUSnNY"
      },
      "outputs": [],
      "source": [
        "# Create the confusion matrix\n",
        "cm = confusion_matrix(y_test, y_pred_binary)\n",
        "\n",
        "print('Confusion Matrix :')\n",
        "print(cm)\n",
        "\n",
        "# Print the classification report\n",
        "print('\\nClassification Report :')\n",
        "print(classification_report(y_test, y_pred_binary))"
      ]
    },
    {
      "cell_type": "code",
      "execution_count": null,
      "metadata": {
        "id": "byYml8oGU7Og"
      },
      "outputs": [],
      "source": [
        "plt.figure(figsize=(10,7))\n",
        "sns.heatmap(cm, annot=True, fmt='d')\n",
        "plt.xlabel('Predicted')\n",
        "plt.ylabel('Truth')\n",
        "plt.show()"
      ]
    },
    {
      "cell_type": "markdown",
      "metadata": {
        "id": "H4_ui63JVBvZ"
      },
      "source": [
        "**Pre-prunning with data insights**"
      ]
    },
    {
      "cell_type": "code",
      "execution_count": null,
      "metadata": {
        "id": "p6Yh_GjpMKvS"
      },
      "outputs": [],
      "source": [
        "X = movies_metadata_df[['budget', 'runtime','rating_converted', 'director_score', 'company_score','genre_score', 'star_score', 'writer_score', 'month_converted']]\n",
        "y = movies_metadata_df['successful']\n",
        "\n",
        "X_train, X_test, y_train, y_test = train_test_split(X, y, test_size=0.2, random_state=42)"
      ]
    },
    {
      "cell_type": "code",
      "execution_count": null,
      "metadata": {},
      "outputs": [],
      "source": [
        "# Finding the best parameters for Decision Tree\n",
        "param_grid = {\n",
        "    'criterion': ['gini', 'entropy'],\n",
        "    'splitter': ['best', 'random'],\n",
        "    'max_depth': [None, 5, 10, 20],\n",
        "    'min_samples_split': [2, 5, 10],\n",
        "    'min_samples_leaf': [1, 2, 4],\n",
        "    'class_weight': ['balanced', None],\n",
        "    'random_state': [42]\n",
        "}\n",
        "\n",
        "grid_search = GridSearchCV(DecisionTreeClassifier(), param_grid, cv=5, scoring='neg_mean_absolute_error')\n",
        "grid_search.fit(X_train, y_train)\n",
        "\n",
        "best_params = grid_search.best_params_\n",
        "best_model = grid_search.best_estimator_\n",
        "\n",
        "print(\"Best parameters:\", best_params)\n",
        "\n",
        "# Evaluate the best model\n",
        "y_pred = best_model.predict(X_test)\n",
        "\n",
        "mae = mean_absolute_error(y_test, y_pred)\n",
        "print(\"Mean absolute error:\", mae)\n",
        "\n",
        "# Calculate accuracy\n",
        "accuracy = np.mean(y_pred == y_test)\n",
        "print(\"Accuracy:\", accuracy)"
      ]
    },
    {
      "cell_type": "code",
      "execution_count": null,
      "metadata": {},
      "outputs": [],
      "source": [
        "# Tạo bản sao của X_test và y_test\n",
        "test_samples = X_test.copy()\n",
        "test_samples['actual'] = y_test\n",
        "test_samples['predicted'] = y_pred\n",
        "\n",
        "# Danh sách các tiêu đề cần chọn (sử dụng chỉ mục)\n",
        "titles_to_select = ['Annihilation', 'American Wedding', 'Faraway, So Close!', 'Hero']\n",
        "\n",
        "# Lọc các mẫu dựa trên chỉ mục\n",
        "selected_samples = test_samples.loc[titles_to_select]\n",
        "\n",
        "# Hiển thị kết quả\n",
        "selected_samples\n"
      ]
    },
    {
      "cell_type": "code",
      "execution_count": null,
      "metadata": {
        "id": "aDS6vF1-qcc2"
      },
      "outputs": [],
      "source": [
        "# Create the confusion matrix\n",
        "cm = confusion_matrix(y_test, y_pred)\n",
        "\n",
        "print('Confusion Matrix :')\n",
        "print(cm)\n",
        "\n",
        "# Print the classification report\n",
        "print('\\nClassification Report :')\n",
        "print(classification_report(y_test, y_pred))"
      ]
    },
    {
      "cell_type": "code",
      "execution_count": null,
      "metadata": {
        "id": "vv7s8C0dqd-l"
      },
      "outputs": [],
      "source": [
        "plt.figure(figsize=(10,7))\n",
        "sns.heatmap(cm, annot=True, fmt='d')\n",
        "plt.xlabel('Predicted')\n",
        "plt.ylabel('Truth')\n",
        "plt.show()"
      ]
    },
    {
      "cell_type": "code",
      "execution_count": null,
      "metadata": {},
      "outputs": [],
      "source": [
        "# Save the best model\n",
        "with open('model/PreDecisionTree.sav', 'wb') as model_file:\n",
        "    pickle.dump(best_model, model_file)"
      ]
    },
    {
      "cell_type": "markdown",
      "metadata": {
        "id": "rpCfkSnEOh5h"
      },
      "source": [
        "**PostPruning**"
      ]
    },
    {
      "cell_type": "code",
      "execution_count": null,
      "metadata": {
        "id": "sHGDzfeCMMmT"
      },
      "outputs": [],
      "source": [
        "import matplotlib.pyplot as plt\n",
        "\n",
        "from sklearn.datasets import load_breast_cancer\n",
        "from sklearn.model_selection import train_test_split\n",
        "from sklearn.tree import DecisionTreeClassifier\n",
        "\n",
        "clf = DecisionTreeClassifier(random_state=42)\n",
        "path = clf.cost_complexity_pruning_path(X_train, y_train)\n",
        "ccp_alphas, impurities = path.ccp_alphas, path.impurities"
      ]
    },
    {
      "cell_type": "code",
      "execution_count": null,
      "metadata": {
        "colab": {
          "base_uri": "https://localhost:8080/",
          "height": 490
        },
        "id": "VaMGwfB8Oygi",
        "outputId": "9908ff60-c329-4cde-80ce-b0d134faf645"
      },
      "outputs": [],
      "source": [
        "fig, ax = plt.subplots()\n",
        "ax.plot(ccp_alphas[:-1], impurities[:-1], marker=\"o\", drawstyle=\"steps-post\")\n",
        "ax.set_xlabel(\"effective alpha\")\n",
        "ax.set_ylabel(\"total impurity of leaves\")\n",
        "ax.set_title(\"Total Impurity vs effective alpha for training set\")"
      ]
    },
    {
      "cell_type": "code",
      "execution_count": null,
      "metadata": {
        "colab": {
          "base_uri": "https://localhost:8080/"
        },
        "id": "gSRYFmHSO3X_",
        "outputId": "5978366e-7b66-4f61-8b7e-e8a295145f6d"
      },
      "outputs": [],
      "source": [
        "clfs = []\n",
        "for ccp_alpha in ccp_alphas:\n",
        "    clf = DecisionTreeClassifier(random_state=42, ccp_alpha=ccp_alpha)\n",
        "    clf.fit(X_train, y_train)\n",
        "    clfs.append(clf)\n",
        "print(\n",
        "    \"Number of nodes in the last tree is: {} with ccp_alpha: {}\".format(\n",
        "        clfs[-1].tree_.node_count, ccp_alphas[-1]\n",
        "    )\n",
        ")"
      ]
    },
    {
      "cell_type": "code",
      "execution_count": null,
      "metadata": {
        "colab": {
          "base_uri": "https://localhost:8080/",
          "height": 486
        },
        "id": "p7wvlCJ7O48l",
        "outputId": "79c9c0d2-4ab4-461b-950f-da016e1b4f25"
      },
      "outputs": [],
      "source": [
        "clfs = clfs[:-1]\n",
        "ccp_alphas = ccp_alphas[:-1]\n",
        "\n",
        "node_counts = [clf.tree_.node_count for clf in clfs]\n",
        "depth = [clf.tree_.max_depth for clf in clfs]\n",
        "fig, ax = plt.subplots(2, 1)\n",
        "ax[0].plot(ccp_alphas, node_counts, marker=\"o\", drawstyle=\"steps-post\")\n",
        "ax[0].set_xlabel(\"alpha\")\n",
        "ax[0].set_ylabel(\"number of nodes\")\n",
        "ax[0].set_title(\"Number of nodes vs alpha\")\n",
        "ax[1].plot(ccp_alphas, depth, marker=\"o\", drawstyle=\"steps-post\")\n",
        "ax[1].set_xlabel(\"alpha\")\n",
        "ax[1].set_ylabel(\"depth of tree\")\n",
        "ax[1].set_title(\"Depth vs alpha\")\n",
        "fig.tight_layout()\n"
      ]
    },
    {
      "cell_type": "code",
      "execution_count": null,
      "metadata": {},
      "outputs": [],
      "source": [
        "print(\"Columns in X_train: \", X_train.columns)\n",
        "print(\"Columns in X_test: \", X_test.columns)"
      ]
    },
    {
      "cell_type": "code",
      "execution_count": null,
      "metadata": {
        "colab": {
          "base_uri": "https://localhost:8080/",
          "height": 449
        },
        "id": "NkkJKHQRO7F7",
        "outputId": "67f088e7-0375-484a-e4db-4a1ed2802c33"
      },
      "outputs": [],
      "source": [
        "train_scores = [clf.score(X_train, y_train) for clf in clfs]\n",
        "test_scores = [clf.score(X_test, y_test) for clf in clfs]\n",
        "\n",
        "fig, ax = plt.subplots()\n",
        "ax.set_xlabel(\"alpha\")\n",
        "ax.set_ylabel(\"accuracy\")\n",
        "ax.set_title(\"Accuracy vs alpha for training and testing sets\")\n",
        "ax.plot(ccp_alphas, train_scores, marker=\"o\", label=\"train\", drawstyle=\"steps-post\")\n",
        "ax.plot(ccp_alphas, test_scores, marker=\"o\", label=\"test\", drawstyle=\"steps-post\")\n",
        "ax.legend()\n",
        "plt.show()"
      ]
    },
    {
      "cell_type": "code",
      "execution_count": null,
      "metadata": {
        "colab": {
          "base_uri": "https://localhost:8080/",
          "height": 472
        },
        "id": "GU7lhGEFPEmn",
        "outputId": "9020ac3b-b731-48b4-cb21-8e1560dc9f84"
      },
      "outputs": [],
      "source": [
        "import numpy as np\n",
        "\n",
        "# Assuming your current range of ccp_alphas is from min_alpha to max_alpha\n",
        "min_alpha = min(ccp_alphas)\n",
        "max_alpha = 0.0006\n",
        "\n",
        "# Create a more finely spaced range of alphas\n",
        "fine_ccp_alphas = np.linspace(min_alpha, max_alpha, num=100)  # Change num to the number of bins you want\n",
        "\n",
        "# Now you need to retrain your models with these new alphas and get the scores\n",
        "fine_clfs = [DecisionTreeClassifier(random_state=0, ccp_alpha=alpha).fit(X_train, y_train) for alpha in fine_ccp_alphas]\n",
        "fine_train_scores = [clf.score(X_train, y_train) for clf in fine_clfs]\n",
        "fine_test_scores = [clf.score(X_test, y_test) for clf in fine_clfs]\n",
        "\n",
        "# And plot the results\n",
        "fig, ax = plt.subplots()\n",
        "ax.set_xlabel(\"alpha\")\n",
        "ax.set_ylabel(\"accuracy\")\n",
        "ax.set_title(\"Accuracy vs alpha for training and testing sets\")\n",
        "ax.plot(fine_ccp_alphas, fine_train_scores, marker=\"o\", label=\"train\", drawstyle=\"steps-post\")\n",
        "ax.plot(fine_ccp_alphas, fine_test_scores, marker=\"o\", label=\"test\", drawstyle=\"steps-post\")\n",
        "ax.legend()\n",
        "plt.show()"
      ]
    },
    {
      "cell_type": "code",
      "execution_count": null,
      "metadata": {
        "colab": {
          "base_uri": "https://localhost:8080/"
        },
        "id": "-gxhqS8qUzC1",
        "outputId": "8fd1d0ac-3865-4c35-b8e3-beba8b04cdae"
      },
      "outputs": [],
      "source": [
        "from sklearn.metrics import accuracy_score\n",
        "\n",
        "model = DecisionTreeClassifier(ccp_alpha=0.0004)\n",
        "\n",
        "model.fit(X_train, y_train)\n",
        "\n",
        "# Make predictions on the test set\n",
        "y_pred = model.predict(X_test)\n",
        "\n",
        "# Calculate and print the accuracy\n",
        "accuracy = accuracy_score(y_test, y_pred)\n",
        "rounded_accuracy = round(accuracy, 2)\n",
        "print(accuracy)"
      ]
    },
    {
      "cell_type": "code",
      "execution_count": null,
      "metadata": {
        "colab": {
          "base_uri": "https://localhost:8080/"
        },
        "id": "N94wM_Ckx39X",
        "outputId": "9f6d3a16-06f2-46c7-bd5a-544897616db5"
      },
      "outputs": [],
      "source": [
        "# Print the parameters\n",
        "print(f\"class_weight: {model.class_weight}\")\n",
        "print(f\"criterion: {model.criterion}\")\n",
        "print(f\"max_depth: {model.max_depth}\")\n",
        "print(f\"min_samples_leaf: {model.min_samples_leaf}\")\n",
        "print(f\"min_samples_split: {model.min_samples_split}\")\n",
        "print(f\"random_state: {model.random_state}\")\n",
        "print(f\"splitter: {model.splitter}\")"
      ]
    },
    {
      "cell_type": "code",
      "execution_count": null,
      "metadata": {
        "colab": {
          "base_uri": "https://localhost:8080/"
        },
        "id": "Jc6faypWyHFP",
        "outputId": "4e3d09d6-b838-496d-f006-5cb17b4c5afe"
      },
      "outputs": [],
      "source": [
        "# Create the confusion matrix\n",
        "cm = confusion_matrix(y_test, y_pred)\n",
        "\n",
        "print('Confusion Matrix :')\n",
        "print(cm)\n",
        "\n",
        "# Print the classification report\n",
        "print('\\nClassification Report :')\n",
        "print(classification_report(y_test, y_pred))"
      ]
    },
    {
      "cell_type": "code",
      "execution_count": null,
      "metadata": {
        "colab": {
          "base_uri": "https://localhost:8080/",
          "height": 619
        },
        "id": "O6caMqgJyJfD",
        "outputId": "392a611c-2080-4e3a-f2fd-15bafbc3b5a2"
      },
      "outputs": [],
      "source": [
        "plt.figure(figsize=(10,7))\n",
        "sns.heatmap(cm, annot=True, fmt='d')\n",
        "plt.xlabel('Predicted')\n",
        "plt.ylabel('Truth')\n",
        "plt.show()"
      ]
    },
    {
      "cell_type": "code",
      "execution_count": null,
      "metadata": {
        "colab": {
          "base_uri": "https://localhost:8080/"
        },
        "id": "U72M62Z2zNIL",
        "outputId": "a801b83e-6d76-4a3e-d07d-c27cb9bc2c32"
      },
      "outputs": [],
      "source": [
        "mae = mean_absolute_error(y_test, y_pred)\n",
        "print(\"Mean absolute error:\", mae)"
      ]
    },
    {
      "cell_type": "code",
      "execution_count": null,
      "metadata": {},
      "outputs": [],
      "source": [
        "# Save the best model\n",
        "with open('model/PostDecisionTree.sav', 'wb') as model_file:\n",
        "    pickle.dump(best_model, model_file)"
      ]
    },
    {
      "cell_type": "markdown",
      "metadata": {
        "id": "RPz7btNYV_7Y"
      },
      "source": [
        "**Tree**"
      ]
    },
    {
      "cell_type": "code",
      "execution_count": null,
      "metadata": {
        "id": "VeunxP_uZFn1"
      },
      "outputs": [],
      "source": [
        "model.max_depth"
      ]
    },
    {
      "cell_type": "code",
      "execution_count": null,
      "metadata": {},
      "outputs": [],
      "source": [
        "X.columns"
      ]
    },
    {
      "cell_type": "code",
      "execution_count": null,
      "metadata": {
        "colab": {
          "base_uri": "https://localhost:8080/",
          "height": 1000
        },
        "id": "kVweOvzGVE22",
        "outputId": "5be00cb8-d112-43ff-ae7f-24d82a99dd16"
      },
      "outputs": [],
      "source": [
        "from sklearn.tree import plot_tree\n",
        "import matplotlib.pyplot as plt\n",
        "\n",
        "# Assuming clf is your trained Decision Tree model\n",
        "plt.figure(figsize=(45, 45))\n",
        "plot_tree(model, filled=True, feature_names=X_train.columns, class_names=['Flop', 'Successful'], proportion=True)\n",
        "plt.savefig('decision_tree.png')\n",
        "plt.show()\n"
      ]
    },
    {
      "cell_type": "markdown",
      "metadata": {
        "id": "0RvVdRojfTLs"
      },
      "source": [
        "**XGBoost**"
      ]
    },
    {
      "cell_type": "code",
      "execution_count": null,
      "metadata": {
        "id": "mp1oEoQeYfAA"
      },
      "outputs": [],
      "source": [
        "from sklearn.model_selection import GridSearchCV\n",
        "from xgboost import XGBClassifier\n",
        "\n",
        "# Define the parameter grid\n",
        "param_grid = {\n",
        "    'max_depth': range(2, 10, 1),\n",
        "    'n_estimators': range(60, 220, 40),\n",
        "    'learning_rate': [0.1, 0.01, 0.05]\n",
        "}\n",
        "\n",
        "# Create a XGBClassifier object\n",
        "xgb = XGBClassifier(objective='binary:logistic', nthread=4, seed=42)\n",
        "\n",
        "# Create a GridSearchCV object\n",
        "grid_search = GridSearchCV(estimator=xgb, param_grid=param_grid, scoring='roc_auc', n_jobs=10, cv=10, verbose=True)\n",
        "\n",
        "# Fit the GridSearchCV object to your data (replace X and Y with your data)\n",
        "grid_search.fit(X, y)\n",
        "\n",
        "# Print the best parameters\n",
        "print(grid_search.best_params_)"
      ]
    },
    {
      "cell_type": "code",
      "execution_count": null,
      "metadata": {
        "colab": {
          "base_uri": "https://localhost:8080/",
          "height": 219
        },
        "id": "4Gl6CVbffX12",
        "outputId": "ff831127-6f2a-49c1-cd07-8f2673aab9f6"
      },
      "outputs": [],
      "source": [
        "from sklearn.metrics import accuracy_score\n",
        "\n",
        "# Get the best parameters\n",
        "best_params = grid_search.best_params_\n",
        "\n",
        "# Create a new XGBClassifier with the best parameters\n",
        "xgb_best = XGBClassifier(**best_params)\n",
        "\n",
        "# Split your data into training and test sets\n",
        "# (replace X, Y with your data and test_size with the desired test set size)\n",
        "from sklearn.model_selection import train_test_split\n",
        "# X_train, X_test, Y_train, Y_test = train_test_split(X, Y, test_size=0.2, random_state=42)\n",
        "\n",
        "# Fit the classifier to the training data\n",
        "xgb_best.fit(X_train, y_train)\n",
        "\n",
        "# Make predictions on the test set\n",
        "Y_pred = xgb_best.predict(X_test)\n",
        "\n",
        "# Calculate the accuracy score\n",
        "accuracy = accuracy_score(y_test, y_pred)\n",
        "\n",
        "# Print the accuracy score\n",
        "print(f'Accuracy: {accuracy}')"
      ]
    }
  ],
  "metadata": {
    "colab": {
      "provenance": [],
      "toc_visible": true
    },
    "kernelspec": {
      "display_name": "Python 3",
      "name": "python3"
    },
    "language_info": {
      "codemirror_mode": {
        "name": "ipython",
        "version": 3
      },
      "file_extension": ".py",
      "mimetype": "text/x-python",
      "name": "python",
      "nbconvert_exporter": "python",
      "pygments_lexer": "ipython3",
      "version": "3.11.2"
    }
  },
  "nbformat": 4,
  "nbformat_minor": 0
}
